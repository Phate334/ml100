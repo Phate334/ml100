{
 "cells": [
  {
   "cell_type": "markdown",
   "metadata": {
    "colab_type": "text",
    "id": "cj4tE8e8iUtO"
   },
   "source": [
    "#   \n",
    "\n",
    "# 作業目標:\n",
    "\n",
    "    1. 藉由固定的 dataset, 來驗證不同loss function\n",
    "    2. Dataset 的特性跟我們選用的loss function 對accrancy 的影響\n",
    "    \n",
    "    \n",
    "# 作業重點: \n",
    "    請分別選用 \"MSE\", \"binary _crossentropy\"\n",
    "    查看Train/test accurancy and loss rate\n",
    "    "
   ]
  },
  {
   "cell_type": "markdown",
   "metadata": {
    "colab_type": "text",
    "id": "R51J4KyyiUsL"
   },
   "source": [
    "# 導入必要的函數"
   ]
  },
  {
   "cell_type": "code",
   "execution_count": 1,
   "metadata": {
    "colab": {},
    "colab_type": "code",
    "id": "Qd68OQjciUsM"
   },
   "outputs": [],
   "source": [
    "from keras.datasets import cifar10\n",
    "import numpy as np\n",
    "np.random.seed(10)"
   ]
  },
  {
   "cell_type": "markdown",
   "metadata": {
    "colab_type": "text",
    "id": "GxKuzQLQiUsP"
   },
   "source": [
    "# 資料準備"
   ]
  },
  {
   "cell_type": "code",
   "execution_count": 2,
   "metadata": {
    "colab": {},
    "colab_type": "code",
    "id": "MIbFZdTCiUsQ"
   },
   "outputs": [],
   "source": [
    "#取得Keras Dataset\n",
    "(x_img_train,y_label_train),(x_img_test,y_label_test)=cifar10.load_data()"
   ]
  },
  {
   "cell_type": "code",
   "execution_count": 3,
   "metadata": {
    "colab": {},
    "colab_type": "code",
    "id": "J8CJVjNOiUsS"
   },
   "outputs": [
    {
     "name": "stdout",
     "output_type": "stream",
     "text": [
      "train data: images: (50000, 32, 32, 3)  labels: (50000, 1)\n",
      "test  data: images: (10000, 32, 32, 3)  labels: (10000, 1)\n"
     ]
    }
   ],
   "source": [
    "#確認 CIFAR10 Dataset 資料維度\n",
    "print(\"train data:\",'images:',x_img_train.shape,\n",
    "      \" labels:\",y_label_train.shape) \n",
    "print(\"test  data:\",'images:',x_img_test.shape ,\n",
    "      \" labels:\",y_label_test.shape) "
   ]
  },
  {
   "cell_type": "code",
   "execution_count": 4,
   "metadata": {
    "colab": {},
    "colab_type": "code",
    "id": "V3P6P4DXiUsV"
   },
   "outputs": [],
   "source": [
    "#資料正規化\n",
    "x_img_train_normalize = x_img_train.astype('float32') / 255.0\n",
    "x_img_test_normalize = x_img_test.astype('float32') / 255.0"
   ]
  },
  {
   "cell_type": "code",
   "execution_count": 5,
   "metadata": {
    "colab": {},
    "colab_type": "code",
    "id": "vsDyjKYliUsX"
   },
   "outputs": [
    {
     "data": {
      "text/plain": [
       "(10000, 10)"
      ]
     },
     "execution_count": 5,
     "metadata": {},
     "output_type": "execute_result"
    }
   ],
   "source": [
    "#針對Label 做 ONE HOT ENCODE\n",
    "from keras.utils import np_utils\n",
    "y_label_train_OneHot = np_utils.to_categorical(y_label_train)\n",
    "y_label_test_OneHot = np_utils.to_categorical(y_label_test)\n",
    "y_label_test_OneHot.shape"
   ]
  },
  {
   "cell_type": "markdown",
   "metadata": {
    "colab_type": "text",
    "id": "RutW2OtgiUsZ"
   },
   "source": [
    "# 建立模型"
   ]
  },
  {
   "cell_type": "code",
   "execution_count": 6,
   "metadata": {
    "colab": {},
    "colab_type": "code",
    "id": "aHz592aXiUsa"
   },
   "outputs": [],
   "source": [
    "from keras.models import Sequential\n",
    "from keras.layers import Dense, Dropout, Activation, Flatten\n",
    "from keras.layers import Conv2D, MaxPooling2D, ZeroPadding2D"
   ]
  },
  {
   "cell_type": "code",
   "execution_count": 7,
   "metadata": {
    "colab": {},
    "colab_type": "code",
    "id": "hslqrIp0iUse"
   },
   "outputs": [],
   "source": [
    "model = Sequential()"
   ]
  },
  {
   "cell_type": "code",
   "execution_count": 8,
   "metadata": {
    "colab": {},
    "colab_type": "code",
    "id": "Hqe35hs2iUsi"
   },
   "outputs": [],
   "source": [
    "model.add(Conv2D(filters=32,kernel_size=(3,3),\n",
    "                 input_shape=(32, 32,3), \n",
    "                 activation='relu', \n",
    "                 padding='same'))\n",
    "model.add(MaxPooling2D(pool_size=(2, 2)))"
   ]
  },
  {
   "cell_type": "code",
   "execution_count": 9,
   "metadata": {
    "colab": {},
    "colab_type": "code",
    "id": "n-GRKmPViUso"
   },
   "outputs": [],
   "source": [
    "model.add(Dropout(rate=0.25))"
   ]
  },
  {
   "cell_type": "code",
   "execution_count": 10,
   "metadata": {
    "colab": {},
    "colab_type": "code",
    "id": "GlWnnD1uiUsw"
   },
   "outputs": [],
   "source": [
    "model.add(MaxPooling2D(pool_size=(2, 2)))"
   ]
  },
  {
   "cell_type": "code",
   "execution_count": 11,
   "metadata": {
    "colab": {},
    "colab_type": "code",
    "id": "nawlkt55iUsy"
   },
   "outputs": [],
   "source": [
    "#卷積層2與池化層2"
   ]
  },
  {
   "cell_type": "code",
   "execution_count": 12,
   "metadata": {
    "colab": {},
    "colab_type": "code",
    "id": "xxyETiKNiUs1"
   },
   "outputs": [],
   "source": [
    "model.add(Conv2D(filters=64, kernel_size=(3, 3), \n",
    "                 activation='relu', padding='same'))"
   ]
  },
  {
   "cell_type": "code",
   "execution_count": 13,
   "metadata": {
    "colab": {},
    "colab_type": "code",
    "id": "RqcKWtqGiUs2"
   },
   "outputs": [],
   "source": [
    "model.add(Dropout(0.25))"
   ]
  },
  {
   "cell_type": "code",
   "execution_count": 14,
   "metadata": {
    "colab": {},
    "colab_type": "code",
    "id": "BUOOzlqfiUs4"
   },
   "outputs": [],
   "source": [
    "model.add(MaxPooling2D(pool_size=(2, 2)))"
   ]
  },
  {
   "cell_type": "code",
   "execution_count": 15,
   "metadata": {
    "colab": {},
    "colab_type": "code",
    "id": "LpkppB2siUs7"
   },
   "outputs": [],
   "source": [
    "#建立神經網路(平坦層、隱藏層、輸出層)"
   ]
  },
  {
   "cell_type": "code",
   "execution_count": 16,
   "metadata": {
    "colab": {},
    "colab_type": "code",
    "id": "UQOfU54_iUs_"
   },
   "outputs": [],
   "source": [
    "model.add(Flatten())\n",
    "model.add(Dropout(rate=0.25))"
   ]
  },
  {
   "cell_type": "code",
   "execution_count": 17,
   "metadata": {
    "colab": {},
    "colab_type": "code",
    "id": "_NV-8sq4iUtD"
   },
   "outputs": [],
   "source": [
    "model.add(Dense(1024, activation='relu'))\n",
    "model.add(Dropout(rate=0.25))"
   ]
  },
  {
   "cell_type": "code",
   "execution_count": 18,
   "metadata": {
    "colab": {},
    "colab_type": "code",
    "id": "qVK77krOiUtF"
   },
   "outputs": [],
   "source": [
    "model.add(Dense(10, activation='softmax'))"
   ]
  },
  {
   "cell_type": "code",
   "execution_count": 19,
   "metadata": {
    "colab": {},
    "colab_type": "code",
    "id": "ZxzRIjR0iUtH"
   },
   "outputs": [
    {
     "name": "stdout",
     "output_type": "stream",
     "text": [
      "Model: \"sequential\"\n",
      "_________________________________________________________________\n",
      " Layer (type)                Output Shape              Param #   \n",
      "=================================================================\n",
      " conv2d (Conv2D)             (None, 32, 32, 32)        896       \n",
      "                                                                 \n",
      " max_pooling2d (MaxPooling2D  (None, 16, 16, 32)       0         \n",
      " )                                                               \n",
      "                                                                 \n",
      " dropout (Dropout)           (None, 16, 16, 32)        0         \n",
      "                                                                 \n",
      " max_pooling2d_1 (MaxPooling  (None, 8, 8, 32)         0         \n",
      " 2D)                                                             \n",
      "                                                                 \n",
      " conv2d_1 (Conv2D)           (None, 8, 8, 64)          18496     \n",
      "                                                                 \n",
      " dropout_1 (Dropout)         (None, 8, 8, 64)          0         \n",
      "                                                                 \n",
      " max_pooling2d_2 (MaxPooling  (None, 4, 4, 64)         0         \n",
      " 2D)                                                             \n",
      "                                                                 \n",
      " flatten (Flatten)           (None, 1024)              0         \n",
      "                                                                 \n",
      " dropout_2 (Dropout)         (None, 1024)              0         \n",
      "                                                                 \n",
      " dense (Dense)               (None, 1024)              1049600   \n",
      "                                                                 \n",
      " dropout_3 (Dropout)         (None, 1024)              0         \n",
      "                                                                 \n",
      " dense_1 (Dense)             (None, 10)                10250     \n",
      "                                                                 \n",
      "=================================================================\n",
      "Total params: 1,079,242\n",
      "Trainable params: 1,079,242\n",
      "Non-trainable params: 0\n",
      "_________________________________________________________________\n",
      "None\n"
     ]
    }
   ],
   "source": [
    "#檢查model 的STACK\n",
    "print(model.summary())"
   ]
  },
  {
   "cell_type": "markdown",
   "metadata": {
    "colab_type": "text",
    "id": "QJCtpJM0iUtJ"
   },
   "source": [
    "# 載入之前訓練的模型"
   ]
  },
  {
   "cell_type": "code",
   "execution_count": 20,
   "metadata": {
    "colab": {},
    "colab_type": "code",
    "id": "JU3A6NzQiUtK"
   },
   "outputs": [
    {
     "name": "stdout",
     "output_type": "stream",
     "text": [
      "載入模型失敗!開始訓練一個新模型\n"
     ]
    }
   ],
   "source": [
    "try:\n",
    "    model.load_weights(\"SaveModel/cifarCnnModel.h5\")\n",
    "    print(\"載入模型成功!繼續訓練模型\")\n",
    "except :    \n",
    "    print(\"載入模型失敗!開始訓練一個新模型\")"
   ]
  },
  {
   "cell_type": "markdown",
   "metadata": {
    "colab_type": "text",
    "id": "qBbCuziziUtM"
   },
   "source": [
    "# 訓練模型"
   ]
  },
  {
   "cell_type": "code",
   "execution_count": 21,
   "metadata": {
    "colab": {},
    "colab_type": "code",
    "id": "Q6BiBcseiUtP"
   },
   "outputs": [],
   "source": [
    "model.compile(loss='categorical_crossentropy', optimizer='sgd', metrics=['accuracy'])\n",
    "model_mse = model\n",
    "model_binary = model\n",
    "\n",
    "model_mse.compile(loss='mean_squared_error', optimizer='Adam', metrics=['accuracy'])\n",
    "model_binary.compile(loss='binary_crossentropy', optimizer='Adam', metrics=['accuracy'])"
   ]
  },
  {
   "cell_type": "code",
   "execution_count": 22,
   "metadata": {
    "colab": {},
    "colab_type": "code",
    "id": "4-GdDgmQiUtS"
   },
   "outputs": [
    {
     "name": "stdout",
     "output_type": "stream",
     "text": [
      "Epoch 1/10\n",
      "WARNING:tensorflow:AutoGraph could not transform <function Model.make_train_function.<locals>.train_function at 0x000001C36E20E3A8> and will run it as-is.\n",
      "Please report this to the TensorFlow team. When filing the bug, set the verbosity to 10 (on Linux, `export AUTOGRAPH_VERBOSITY=10`) and attach the full output.\n",
      "Cause: 'arguments' object has no attribute 'posonlyargs'\n",
      "To silence this warning, decorate the function with @tf.autograph.experimental.do_not_convert\n",
      "WARNING: AutoGraph could not transform <function Model.make_train_function.<locals>.train_function at 0x000001C36E20E3A8> and will run it as-is.\n",
      "Please report this to the TensorFlow team. When filing the bug, set the verbosity to 10 (on Linux, `export AUTOGRAPH_VERBOSITY=10`) and attach the full output.\n",
      "Cause: 'arguments' object has no attribute 'posonlyargs'\n",
      "To silence this warning, decorate the function with @tf.autograph.experimental.do_not_convert\n",
      "293/293 [==============================] - ETA: 0s - loss: 0.2626 - accuracy: 0.3750WARNING:tensorflow:AutoGraph could not transform <function Model.make_test_function.<locals>.test_function at 0x000001C36E150CA8> and will run it as-is.\n",
      "Please report this to the TensorFlow team. When filing the bug, set the verbosity to 10 (on Linux, `export AUTOGRAPH_VERBOSITY=10`) and attach the full output.\n",
      "Cause: 'arguments' object has no attribute 'posonlyargs'\n",
      "To silence this warning, decorate the function with @tf.autograph.experimental.do_not_convert\n",
      "WARNING: AutoGraph could not transform <function Model.make_test_function.<locals>.test_function at 0x000001C36E150CA8> and will run it as-is.\n",
      "Please report this to the TensorFlow team. When filing the bug, set the verbosity to 10 (on Linux, `export AUTOGRAPH_VERBOSITY=10`) and attach the full output.\n",
      "Cause: 'arguments' object has no attribute 'posonlyargs'\n",
      "To silence this warning, decorate the function with @tf.autograph.experimental.do_not_convert\n",
      "293/293 [==============================] - 18s 60ms/step - loss: 0.2626 - accuracy: 0.3750 - val_loss: 0.2466 - val_accuracy: 0.4872\n",
      "Epoch 2/10\n",
      "293/293 [==============================] - 28s 97ms/step - loss: 0.2131 - accuracy: 0.5158 - val_loss: 0.2105 - val_accuracy: 0.5607\n",
      "Epoch 3/10\n",
      "293/293 [==============================] - 31s 107ms/step - loss: 0.1955 - accuracy: 0.5666 - val_loss: 0.1972 - val_accuracy: 0.6035\n",
      "Epoch 4/10\n",
      "293/293 [==============================] - 33s 114ms/step - loss: 0.1843 - accuracy: 0.5950 - val_loss: 0.1845 - val_accuracy: 0.6320\n",
      "Epoch 5/10\n",
      "293/293 [==============================] - 31s 105ms/step - loss: 0.1750 - accuracy: 0.6199 - val_loss: 0.1789 - val_accuracy: 0.6597\n",
      "Epoch 6/10\n",
      "293/293 [==============================] - 28s 97ms/step - loss: 0.1666 - accuracy: 0.6416 - val_loss: 0.1738 - val_accuracy: 0.6694\n",
      "Epoch 7/10\n",
      "293/293 [==============================] - 30s 102ms/step - loss: 0.1615 - accuracy: 0.6528 - val_loss: 0.1667 - val_accuracy: 0.6757\n",
      "Epoch 8/10\n",
      "293/293 [==============================] - 30s 103ms/step - loss: 0.1554 - accuracy: 0.6684 - val_loss: 0.1654 - val_accuracy: 0.6822\n",
      "Epoch 9/10\n",
      "293/293 [==============================] - 29s 98ms/step - loss: 0.1498 - accuracy: 0.6808 - val_loss: 0.1562 - val_accuracy: 0.7058\n",
      "Epoch 10/10\n",
      "293/293 [==============================] - 31s 105ms/step - loss: 0.1443 - accuracy: 0.6978 - val_loss: 0.1502 - val_accuracy: 0.7041\n",
      "Epoch 1/10\n",
      "293/293 [==============================] - 23s 79ms/step - loss: 0.1393 - accuracy: 0.7124 - val_loss: 0.1477 - val_accuracy: 0.7122\n",
      "Epoch 2/10\n",
      "293/293 [==============================] - 19s 65ms/step - loss: 0.1366 - accuracy: 0.7191 - val_loss: 0.1441 - val_accuracy: 0.7190\n",
      "Epoch 3/10\n",
      "293/293 [==============================] - 24s 81ms/step - loss: 0.1316 - accuracy: 0.7305 - val_loss: 0.1439 - val_accuracy: 0.7201\n",
      "Epoch 4/10\n",
      "293/293 [==============================] - 29s 98ms/step - loss: 0.1282 - accuracy: 0.7374 - val_loss: 0.1398 - val_accuracy: 0.7314\n",
      "Epoch 5/10\n",
      "293/293 [==============================] - 31s 105ms/step - loss: 0.1238 - accuracy: 0.7502 - val_loss: 0.1363 - val_accuracy: 0.7385\n",
      "Epoch 6/10\n",
      "293/293 [==============================] - 33s 111ms/step - loss: 0.1204 - accuracy: 0.7575 - val_loss: 0.1337 - val_accuracy: 0.7468\n",
      "Epoch 7/10\n",
      "293/293 [==============================] - 33s 112ms/step - loss: 0.1174 - accuracy: 0.7660 - val_loss: 0.1295 - val_accuracy: 0.7494\n",
      "Epoch 8/10\n",
      "293/293 [==============================] - 32s 110ms/step - loss: 0.1142 - accuracy: 0.7723 - val_loss: 0.1294 - val_accuracy: 0.7507\n",
      "Epoch 9/10\n",
      "293/293 [==============================] - 33s 114ms/step - loss: 0.1112 - accuracy: 0.7800 - val_loss: 0.1273 - val_accuracy: 0.7539\n",
      "Epoch 10/10\n",
      "293/293 [==============================] - 32s 109ms/step - loss: 0.1076 - accuracy: 0.7907 - val_loss: 0.1262 - val_accuracy: 0.7561\n",
      "Epoch 1/10\n",
      "293/293 [==============================] - 30s 102ms/step - loss: 0.1044 - accuracy: 0.7971 - val_loss: 0.1254 - val_accuracy: 0.7569\n",
      "Epoch 2/10\n",
      "293/293 [==============================] - 34s 115ms/step - loss: 0.1025 - accuracy: 0.8043 - val_loss: 0.1258 - val_accuracy: 0.7534\n",
      "Epoch 3/10\n",
      "293/293 [==============================] - 34s 116ms/step - loss: 0.0998 - accuracy: 0.8107 - val_loss: 0.1236 - val_accuracy: 0.7574\n",
      "Epoch 4/10\n",
      "293/293 [==============================] - 32s 108ms/step - loss: 0.0970 - accuracy: 0.8161 - val_loss: 0.1269 - val_accuracy: 0.7526\n",
      "Epoch 5/10\n",
      "293/293 [==============================] - 30s 103ms/step - loss: 0.0955 - accuracy: 0.8208 - val_loss: 0.1238 - val_accuracy: 0.7623\n",
      "Epoch 6/10\n",
      "293/293 [==============================] - 29s 99ms/step - loss: 0.0935 - accuracy: 0.8256 - val_loss: 0.1218 - val_accuracy: 0.7570\n",
      "Epoch 7/10\n",
      "293/293 [==============================] - 19s 64ms/step - loss: 0.0909 - accuracy: 0.8334 - val_loss: 0.1226 - val_accuracy: 0.7565\n",
      "Epoch 8/10\n",
      "293/293 [==============================] - 24s 83ms/step - loss: 0.0890 - accuracy: 0.8371 - val_loss: 0.1205 - val_accuracy: 0.7632\n",
      "Epoch 9/10\n",
      "293/293 [==============================] - 30s 102ms/step - loss: 0.0873 - accuracy: 0.8421 - val_loss: 0.1225 - val_accuracy: 0.7584\n",
      "Epoch 10/10\n",
      "293/293 [==============================] - 28s 97ms/step - loss: 0.0845 - accuracy: 0.8473 - val_loss: 0.1216 - val_accuracy: 0.7601\n"
     ]
    }
   ],
   "source": [
    "train_history = model.fit(x_img_train_normalize, y_label_train_OneHot,\n",
    "                          validation_split=0.25,\n",
    "                          epochs=10, batch_size=128, verbose=1)   \n",
    "\n",
    "train_history_mse = model_mse.fit(x_img_train_normalize, y_label_train_OneHot,\n",
    "                                  validation_split=0.25,\n",
    "                                  epochs=10, batch_size=128, verbose=1)  \n",
    "\n",
    "train_history_binary = model_binary.fit(x_img_train_normalize, y_label_train_OneHot,\n",
    "                                validation_split=0.25,\n",
    "                                epochs=10, batch_size=128, verbose=1) "
   ]
  },
  {
   "cell_type": "code",
   "execution_count": 23,
   "metadata": {},
   "outputs": [],
   "source": [
    "import matplotlib.pyplot as plt\n",
    "def show_train_history(train_history,train_acc,test_acc):\n",
    "    plt.plot(train_history.history[train_acc])\n",
    "    plt.plot(train_history.history[test_acc])\n",
    "    plt.title('Train History')\n",
    "    plt.ylabel('Accuracy')\n",
    "    plt.xlabel('Epoch')\n",
    "    plt.legend(['train', 'test'], loc='upper left')\n",
    "    plt.show()"
   ]
  },
  {
   "cell_type": "code",
   "execution_count": 25,
   "metadata": {},
   "outputs": [
    {
     "data": {
      "image/png": "[encoded data removed]",
      "text/plain": [
       "<Figure size 432x288 with 1 Axes>"
      ]
     },
     "metadata": {
      "needs_background": "light"
     },
     "output_type": "display_data"
    },
    {
     "data": {
      "image/png": "[encoded data removed]",
      "text/plain": [
       "<Figure size 432x288 with 1 Axes>"
      ]
     },
     "metadata": {
      "needs_background": "light"
     },
     "output_type": "display_data"
    },
    {
     "data": {
      "image/png": "[encoded data removed]",
      "text/plain": [
       "<Figure size 432x288 with 1 Axes>"
      ]
     },
     "metadata": {
      "needs_background": "light"
     },
     "output_type": "display_data"
    }
   ],
   "source": [
    "show_train_history(train_history,\"accuracy\",\"val_accuracy\")\n",
    "show_train_history(train_history_mse,\"accuracy\",\"val_accuracy\")\n",
    "show_train_history(train_history_binary,\"accuracy\",\"val_accuracy\")"
   ]
  }
 ],
 "metadata": {
  "colab": {
   "name": "Day71-使用損失函數_HW.ipynb",
   "provenance": [],
   "version": "0.3.2"
  },
  "kernelspec": {
   "display_name": "Python 3 (ipykernel)",
   "language": "python",
   "name": "python3"
  },
  "language_info": {
   "codemirror_mode": {
    "name": "ipython",
    "version": 3
   },
   "file_extension": ".py",
   "mimetype": "text/x-python",
   "name": "python",
   "nbconvert_exporter": "python",
   "pygments_lexer": "ipython3",
   "version": "3.7.7"
  }
 },
 "nbformat": 4,
 "nbformat_minor": 1
}
