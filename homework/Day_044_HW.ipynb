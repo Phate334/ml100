{
 "cells": [
  {
   "attachments": {},
   "cell_type": "markdown",
   "metadata": {},
   "source": [
    "## [作業重點]\n",
    "確保你了解隨機森林模型中每個超參數的意義，並觀察調整超參數對結果的影響"
   ]
  },
  {
   "attachments": {},
   "cell_type": "markdown",
   "metadata": {},
   "source": [
    "## 作業\n",
    "\n",
    "1. 試著調整 RandomForestClassifier(...) 中的參數，並觀察是否會改變結果？\n",
    "2. 改用其他資料集 (boston, wine)，並與回歸模型與決策樹的結果進行比較"
   ]
  },
  {
   "cell_type": "code",
   "execution_count": 10,
   "metadata": {},
   "outputs": [
    {
     "name": "stderr",
     "output_type": "stream",
     "text": [
      "c:\\Users\\pu116\\.virtualenvs\\ml100-tYKjTOk1\\lib\\site-packages\\sklearn\\base.py:1151: DataConversionWarning: A column-vector y was passed when a 1d array was expected. Please change the shape of y to (n_samples,), for example using ravel().\n",
      "  return fit_method(estimator, *args, **kwargs)\n"
     ]
    },
    {
     "name": "stdout",
     "output_type": "stream",
     "text": [
      "accuracy score 1: 1.00 \n",
      "accuracy score 2: 0.96 \n"
     ]
    },
    {
     "name": "stderr",
     "output_type": "stream",
     "text": [
      "c:\\Users\\pu116\\.virtualenvs\\ml100-tYKjTOk1\\lib\\site-packages\\sklearn\\base.py:1151: DataConversionWarning: A column-vector y was passed when a 1d array was expected. Please change the shape of y to (n_samples,), for example using ravel().\n",
      "  return fit_method(estimator, *args, **kwargs)\n"
     ]
    }
   ],
   "source": [
    "from sklearn.datasets import load_iris\n",
    "from sklearn.ensemble import RandomForestClassifier\n",
    "from sklearn.utils import shuffle\n",
    "from sklearn.model_selection import train_test_split\n",
    "from sklearn.metrics import accuracy_score\n",
    "import pandas as pd\n",
    "import numpy as np\n",
    "\n",
    "wine = datasets.load_wine()\n",
    "df_wine = pd.DataFrame(wine.data, columns=wine.feature_names)\n",
    "target_wine = pd.DataFrame(wine.target, columns=['Target'])\n",
    "\n",
    "x_train, x_test, y_train, y_test = train_test_split(df_wine, target_wine, test_size=0.3,  random_state=100)\n",
    "\n",
    "rfc_tree_1 = RandomForestClassifier()\n",
    "rfc_tree_2 = RandomForestClassifier(n_estimators=10, random_state=15)\n",
    "\n",
    "# train\n",
    "rfc_tree_1.fit(x_train, y_train)\n",
    "rfc_tree_2.fit(x_train, y_train)\n",
    "\n",
    "# predict\n",
    "y_pred_1 = rfc_tree_1.predict(x_test)\n",
    "y_pred_2 = rfc_tree_2.predict(x_test)\n",
    "\n",
    "print('accuracy score 1: %.2f ' % accuracy_score(y_test,y_pred_1))\n",
    "print('accuracy score 2: %.2f ' % accuracy_score(y_test,y_pred_2))"
   ]
  }
 ],
 "metadata": {
  "kernelspec": {
   "display_name": "Python 3 (ipykernel)",
   "language": "python",
   "name": "python3"
  },
  "language_info": {
   "codemirror_mode": {
    "name": "ipython",
    "version": 3
   },
   "file_extension": ".py",
   "mimetype": "text/x-python",
   "name": "python",
   "nbconvert_exporter": "python",
   "pygments_lexer": "ipython3",
   "version": "3.10.11"
  }
 },
 "nbformat": 4,
 "nbformat_minor": 2
}
