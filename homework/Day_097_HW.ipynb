{
  "cells": [
    {
      "cell_type": "code",
      "execution_count": 1,
      "metadata": {
        "id": "ZBa9wK77uGGM"
      },
      "outputs": [],
      "source": [
        "import keras\n",
        "from keras.datasets import cifar10\n",
        "from keras.preprocessing.image import ImageDataGenerator\n",
        "from keras.models import Sequential\n",
        "from keras.layers import Dense, Dropout, Activation, Flatten\n",
        "from keras.layers import Conv2D, MaxPooling2D\n",
        "from keras.optimizers import RMSprop, Adam\n",
        "import os\n",
        "os.environ[\"CUDA_VISIBLE_DEVICES\"] = \"0\""
      ]
    },
    {
      "cell_type": "code",
      "execution_count": 2,
      "metadata": {
        "colab": {
          "base_uri": "https://localhost:8080/"
        },
        "id": "bcKSQrajuGGN",
        "outputId": "af681c48-4649-49ec-89e6-5312ca514410"
      },
      "outputs": [
        {
          "output_type": "stream",
          "name": "stdout",
          "text": [
            "Downloading data from https://www.cs.toronto.edu/~kriz/cifar-10-python.tar.gz\n",
            "170498071/170498071 [==============================] - 4s 0us/step\n",
            "x_train shape: (50000, 32, 32, 3)\n",
            "50000 train samples\n",
            "10000 test samples\n"
          ]
        }
      ],
      "source": [
        "batch_size = 128 # batch 的大小，如果出現 OOM error，請降低這個值\n",
        "num_classes = 10 # 類別的數量，Cifar 10 共有 10 個類別\n",
        "epochs = 10 # 訓練的 epochs 數量\n",
        "\n",
        "# 讀取資料並檢視\n",
        "(x_train, y_train), (x_test, y_test) = cifar10.load_data()\n",
        "print('x_train shape:', x_train.shape)\n",
        "print(x_train.shape[0], 'train samples')\n",
        "print(x_test.shape[0], 'test samples')\n",
        "\n",
        "# 對 label 進行 one-hot encoding (y_trian 原本是純數字)\n",
        "y_train = keras.utils.to_categorical(y_train, num_classes)\n",
        "y_test = keras.utils.to_categorical(y_test, num_classes)"
      ]
    },
    {
      "cell_type": "markdown",
      "metadata": {
        "id": "5sotQjZ5uGGO"
      },
      "source": [
        "## 首先我們使用一般的 DNN (MLP) 來訓練\n",
        "由於 DNN 只能輸入一維的資料，我們要先將影像進行攤平，若 (50000, 32, 32, 3) 的影像，攤平後會變成 (50000, 32*32*3) = (50000, 3072)"
      ]
    },
    {
      "cell_type": "code",
      "execution_count": 3,
      "metadata": {
        "colab": {
          "base_uri": "https://localhost:8080/"
        },
        "id": "1kWrCXxJuGGP",
        "outputId": "8256686a-e195-4ebc-8043-3effc863a01e"
      },
      "outputs": [
        {
          "output_type": "stream",
          "name": "stdout",
          "text": [
            "50000 train samples\n",
            "10000 test samples\n"
          ]
        }
      ],
      "source": [
        "# 將資料攤平成一維資料\n",
        "x_train = x_train.reshape(50000, 3072) \n",
        "x_test = x_test.reshape(10000, 3072)\n",
        "\n",
        "# 將資料變為 float32 並標準化\n",
        "x_train = x_train.astype('float32')\n",
        "x_test = x_test.astype('float32')\n",
        "x_train /= 255\n",
        "x_test /= 255\n",
        "print(x_train.shape[0], 'train samples')\n",
        "print(x_test.shape[0], 'test samples')"
      ]
    },
    {
      "cell_type": "code",
      "execution_count": 4,
      "metadata": {
        "colab": {
          "base_uri": "https://localhost:8080/"
        },
        "id": "QhY6e9YOuGGP",
        "outputId": "11413612-54e3-4921-a795-84da45039224"
      },
      "outputs": [
        {
          "output_type": "stream",
          "name": "stdout",
          "text": [
            "Model: \"sequential\"\n",
            "_________________________________________________________________\n",
            " Layer (type)                Output Shape              Param #   \n",
            "=================================================================\n",
            " dense (Dense)               (None, 512)               1573376   \n",
            "                                                                 \n",
            " dropout (Dropout)           (None, 512)               0         \n",
            "                                                                 \n",
            " dense_1 (Dense)             (None, 512)               262656    \n",
            "                                                                 \n",
            " dropout_1 (Dropout)         (None, 512)               0         \n",
            "                                                                 \n",
            " dense_2 (Dense)             (None, 10)                5130      \n",
            "                                                                 \n",
            "=================================================================\n",
            "Total params: 1,841,162\n",
            "Trainable params: 1,841,162\n",
            "Non-trainable params: 0\n",
            "_________________________________________________________________\n",
            "Epoch 1/10\n",
            "391/391 [==============================] - 24s 57ms/step - loss: 2.1178 - accuracy: 0.2486 - val_loss: 1.9005 - val_accuracy: 0.3034\n",
            "Epoch 2/10\n",
            "391/391 [==============================] - 21s 55ms/step - loss: 1.8581 - accuracy: 0.3292 - val_loss: 1.7939 - val_accuracy: 0.3354\n",
            "Epoch 3/10\n",
            "391/391 [==============================] - 21s 53ms/step - loss: 1.7818 - accuracy: 0.3589 - val_loss: 1.7500 - val_accuracy: 0.3573\n",
            "Epoch 4/10\n",
            "391/391 [==============================] - 18s 46ms/step - loss: 1.7348 - accuracy: 0.3751 - val_loss: 1.6656 - val_accuracy: 0.4037\n",
            "Epoch 5/10\n",
            "391/391 [==============================] - 16s 42ms/step - loss: 1.6986 - accuracy: 0.3899 - val_loss: 1.6051 - val_accuracy: 0.4346\n",
            "Epoch 6/10\n",
            "391/391 [==============================] - 18s 46ms/step - loss: 1.6714 - accuracy: 0.3989 - val_loss: 1.6026 - val_accuracy: 0.4341\n",
            "Epoch 7/10\n",
            "391/391 [==============================] - 17s 43ms/step - loss: 1.6469 - accuracy: 0.4082 - val_loss: 1.6345 - val_accuracy: 0.4251\n",
            "Epoch 8/10\n",
            "391/391 [==============================] - 18s 45ms/step - loss: 1.6336 - accuracy: 0.4172 - val_loss: 1.6073 - val_accuracy: 0.4349\n",
            "Epoch 9/10\n",
            "391/391 [==============================] - 18s 46ms/step - loss: 1.6157 - accuracy: 0.4234 - val_loss: 1.6323 - val_accuracy: 0.4277\n",
            "Epoch 10/10\n",
            "391/391 [==============================] - 17s 43ms/step - loss: 1.6032 - accuracy: 0.4246 - val_loss: 1.6216 - val_accuracy: 0.4172\n",
            "Test loss: 1.621641755104065\n",
            "Test accuracy: 0.4171999990940094\n"
          ]
        }
      ],
      "source": [
        "model = Sequential()\n",
        "model.add(Dense(512, activation='relu', input_shape=(3072,)))\n",
        "model.add(Dropout(0.2))\n",
        "model.add(Dense(512, activation='relu'))\n",
        "model.add(Dropout(0.2))\n",
        "model.add(Dense(num_classes, activation='softmax'))\n",
        "\n",
        "model.summary()\n",
        "\n",
        "model.compile(loss='categorical_crossentropy',\n",
        "              optimizer=RMSprop(),\n",
        "              metrics=['accuracy'])\n",
        "\n",
        "history = model.fit(x_train, y_train,\n",
        "                    batch_size=batch_size,\n",
        "                    epochs=epochs,\n",
        "                    verbose=1,\n",
        "                    validation_data=(x_test, y_test))\n",
        "score = model.evaluate(x_test, y_test, verbose=0)\n",
        "print('Test loss:', score[0])\n",
        "print('Test accuracy:', score[1])"
      ]
    },
    {
      "cell_type": "markdown",
      "metadata": {
        "id": "6_MJgqUguGGP"
      },
      "source": [
        "## 接下來我們使用 CNN 來訓練神經網路\n",
        "CNN 的原理非常適合處理影像類的資料，就讓我們來看看，同樣的訓練條件，CNN 是否顯著優於 DNN 呢?"
      ]
    },
    {
      "cell_type": "code",
      "execution_count": 5,
      "metadata": {
        "colab": {
          "base_uri": "https://localhost:8080/"
        },
        "id": "JPtoff0ouGGQ",
        "outputId": "d39effdc-925c-4782-c311-56b400989d14"
      },
      "outputs": [
        {
          "output_type": "stream",
          "name": "stdout",
          "text": [
            "x_train shape: (50000, 32, 32, 3)\n",
            "50000 train samples\n",
            "10000 test samples\n"
          ]
        }
      ],
      "source": [
        "(x_train, y_train), (x_test, y_test) = cifar10.load_data()\n",
        "print('x_train shape:', x_train.shape)\n",
        "print(x_train.shape[0], 'train samples')\n",
        "print(x_test.shape[0], 'test samples')\n",
        "x_train = x_train.astype('float32')\n",
        "x_test = x_test.astype('float32')\n",
        "x_train /= 255\n",
        "x_test /= 255\n",
        "\n",
        "# Convert class vectors to binary class matrices.\n",
        "y_train = keras.utils.to_categorical(y_train, num_classes)\n",
        "y_test = keras.utils.to_categorical(y_test, num_classes)"
      ]
    },
    {
      "cell_type": "code",
      "execution_count": 6,
      "metadata": {
        "colab": {
          "base_uri": "https://localhost:8080/"
        },
        "id": "vMQq0GIkuGGQ",
        "outputId": "19693b3f-6681-4fa1-ad18-b0911fd51860"
      },
      "outputs": [
        {
          "output_type": "stream",
          "name": "stdout",
          "text": [
            "Model: \"sequential_1\"\n",
            "_________________________________________________________________\n",
            " Layer (type)                Output Shape              Param #   \n",
            "=================================================================\n",
            " conv2d (Conv2D)             (None, 32, 32, 32)        896       \n",
            "                                                                 \n",
            " activation (Activation)     (None, 32, 32, 32)        0         \n",
            "                                                                 \n",
            " conv2d_1 (Conv2D)           (None, 30, 30, 32)        9248      \n",
            "                                                                 \n",
            " activation_1 (Activation)   (None, 30, 30, 32)        0         \n",
            "                                                                 \n",
            " max_pooling2d (MaxPooling2D  (None, 15, 15, 32)       0         \n",
            " )                                                               \n",
            "                                                                 \n",
            " dropout_2 (Dropout)         (None, 15, 15, 32)        0         \n",
            "                                                                 \n",
            " conv2d_2 (Conv2D)           (None, 15, 15, 64)        18496     \n",
            "                                                                 \n",
            " activation_2 (Activation)   (None, 15, 15, 64)        0         \n",
            "                                                                 \n",
            " conv2d_3 (Conv2D)           (None, 13, 13, 64)        36928     \n",
            "                                                                 \n",
            " activation_3 (Activation)   (None, 13, 13, 64)        0         \n",
            "                                                                 \n",
            " max_pooling2d_1 (MaxPooling  (None, 6, 6, 64)         0         \n",
            " 2D)                                                             \n",
            "                                                                 \n",
            " dropout_3 (Dropout)         (None, 6, 6, 64)          0         \n",
            "                                                                 \n",
            " flatten (Flatten)           (None, 2304)              0         \n",
            "                                                                 \n",
            " dense_3 (Dense)             (None, 512)               1180160   \n",
            "                                                                 \n",
            " activation_4 (Activation)   (None, 512)               0         \n",
            "                                                                 \n",
            " dropout_4 (Dropout)         (None, 512)               0         \n",
            "                                                                 \n",
            " dense_4 (Dense)             (None, 10)                5130      \n",
            "                                                                 \n",
            " activation_5 (Activation)   (None, 10)                0         \n",
            "                                                                 \n",
            "=================================================================\n",
            "Total params: 1,250,858\n",
            "Trainable params: 1,250,858\n",
            "Non-trainable params: 0\n",
            "_________________________________________________________________\n",
            "Epoch 1/10\n",
            "391/391 [==============================] - 289s 737ms/step - loss: 1.7668 - accuracy: 0.3624 - val_loss: 1.4723 - val_accuracy: 0.4695\n",
            "Epoch 2/10\n",
            "391/391 [==============================] - 294s 752ms/step - loss: 1.3379 - accuracy: 0.5234 - val_loss: 1.1571 - val_accuracy: 0.5919\n",
            "Epoch 3/10\n",
            "391/391 [==============================] - 290s 742ms/step - loss: 1.1352 - accuracy: 0.6014 - val_loss: 1.0727 - val_accuracy: 0.6245\n",
            "Epoch 4/10\n",
            "391/391 [==============================] - 297s 759ms/step - loss: 0.9957 - accuracy: 0.6503 - val_loss: 0.8638 - val_accuracy: 0.6987\n",
            "Epoch 5/10\n",
            "391/391 [==============================] - 300s 768ms/step - loss: 0.8938 - accuracy: 0.6879 - val_loss: 0.8522 - val_accuracy: 0.7087\n",
            "Epoch 6/10\n",
            "391/391 [==============================] - 289s 738ms/step - loss: 0.8257 - accuracy: 0.7138 - val_loss: 0.7582 - val_accuracy: 0.7350\n",
            "Epoch 7/10\n",
            "391/391 [==============================] - 294s 751ms/step - loss: 0.7768 - accuracy: 0.7317 - val_loss: 0.8547 - val_accuracy: 0.7145\n",
            "Epoch 8/10\n",
            "391/391 [==============================] - 292s 745ms/step - loss: 0.7341 - accuracy: 0.7448 - val_loss: 0.7530 - val_accuracy: 0.7452\n",
            "Epoch 9/10\n",
            "391/391 [==============================] - 291s 744ms/step - loss: 0.7040 - accuracy: 0.7555 - val_loss: 0.7479 - val_accuracy: 0.7502\n",
            "Epoch 10/10\n",
            "391/391 [==============================] - 293s 749ms/step - loss: 0.6796 - accuracy: 0.7673 - val_loss: 0.6975 - val_accuracy: 0.7647\n",
            "Test loss: 0.6974610090255737\n",
            "Test accuracy: 0.7646999955177307\n"
          ]
        }
      ],
      "source": [
        "model = Sequential()\n",
        "model.add(Conv2D(32, (3, 3), padding='same',\n",
        "                 input_shape=x_train.shape[1:]))\n",
        "model.add(Activation('relu'))\n",
        "model.add(Conv2D(32, (3, 3)))\n",
        "model.add(Activation('relu'))\n",
        "model.add(MaxPooling2D(pool_size=(2, 2)))\n",
        "model.add(Dropout(0.25))\n",
        "\n",
        "model.add(Conv2D(64, (3, 3), padding='same'))\n",
        "model.add(Activation('relu'))\n",
        "model.add(Conv2D(64, (3, 3)))\n",
        "model.add(Activation('relu'))\n",
        "model.add(MaxPooling2D(pool_size=(2, 2)))\n",
        "model.add(Dropout(0.25))\n",
        "\n",
        "model.add(Flatten())\n",
        "model.add(Dense(512))\n",
        "model.add(Activation('relu'))\n",
        "model.add(Dropout(0.5))\n",
        "model.add(Dense(num_classes))\n",
        "model.add(Activation('softmax'))\n",
        "model.summary()\n",
        "\n",
        "model.compile(loss='categorical_crossentropy',\n",
        "              optimizer=RMSprop(),\n",
        "              metrics=['accuracy'])\n",
        "\n",
        "history = model.fit(x_train, y_train,\n",
        "                    batch_size=batch_size,\n",
        "                    epochs=epochs,\n",
        "                    verbose=1,\n",
        "                    validation_data=(x_test, y_test))\n",
        "score = model.evaluate(x_test, y_test, verbose=0)\n",
        "print('Test loss:', score[0])\n",
        "print('Test accuracy:', score[1])"
      ]
    },
    {
      "cell_type": "markdown",
      "metadata": {
        "id": "B9X4cUNcuGGR"
      },
      "source": [
        "## 同樣運算 10 個 epochs，但 CNN 在 test data 的準確率顯著優於 DNN!"
      ]
    },
    {
      "cell_type": "markdown",
      "metadata": {
        "id": "J47KeXkOuGGR"
      },
      "source": [
        "## 作業\n",
        "1. 請試著調整各個超參數，並說明那些超參數對於結果有明顯的影響?\n",
        "2. CNN 與 DNN 哪個模型的參數數量比較多? 造成參數的數量不同的原因在哪?"
      ]
    },
    {
      "cell_type": "markdown",
      "source": [
        "1. 可以調整Conv2D層數、學習率的大小、用其他優化器、filters數量、stride大小、Dropout  \n",
        "2. DNN的參數量較多。CNN 模型通常針對圖像等二維數據設計，利用卷積層和池化層等操作，對數據進行特徵提取和降維處理，從而減少模型中需要訓練的參數數量"
      ],
      "metadata": {
        "id": "m2hRFwLhuVlt"
      }
    }
  ],
  "metadata": {
    "kernelspec": {
      "display_name": "Python 3",
      "language": "python",
      "name": "python3"
    },
    "language_info": {
      "codemirror_mode": {
        "name": "ipython",
        "version": 3
      },
      "file_extension": ".py",
      "mimetype": "text/x-python",
      "name": "python",
      "nbconvert_exporter": "python",
      "pygments_lexer": "ipython3",
      "version": "3.6.2"
    },
    "colab": {
      "provenance": []
    }
  },
  "nbformat": 4,
  "nbformat_minor": 0
}