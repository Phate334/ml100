{
  "cells": [
    {
      "attachments": {},
      "cell_type": "markdown",
      "metadata": {
        "id": "1ZIuZRZ0qsLh"
      },
      "source": [
        "# 作業目標:\n",
        "    了解 Padding 的作法\n",
        "    \n",
        "    了解 Pooling 的作法"
      ]
    },
    {
      "attachments": {},
      "cell_type": "markdown",
      "metadata": {
        "id": "4QJKmZMiqsLj"
      },
      "source": [
        "# 作業重點:\n",
        "    (1) 調整Padding 的設定, 看 Pad 後的結果\n",
        "    \n",
        "    (2) 調整Pooling 的設定, 看 Poolin 後的結果"
      ]
    },
    {
      "cell_type": "code",
      "execution_count": 1,
      "metadata": {
        "id": "V0xgMTGEqsLj"
      },
      "outputs": [],
      "source": [
        "import numpy as np\n",
        "import h5py\n",
        "import matplotlib.pyplot as plt\n",
        "\n",
        "# 繪圖結果直接顯示在Jupyter cell 之內\n",
        "%matplotlib inline  \n",
        "plt.rcParams['figure.figsize'] = (5.0, 4.0) #  設定繪圖板的大小\n",
        "plt.rcParams['image.interpolation'] = 'nearest'\n",
        "plt.rcParams['image.cmap'] = 'gray'\n",
        "\n",
        "# autoreload。可以讓我們不退出IPython就動態修改代碼，在執行代碼前IPython會幫我們自動重載改動的模塊\n",
        "%load_ext autoreload\n",
        "%autoreload 2\n",
        "np.random.seed(1)"
      ]
    },
    {
      "cell_type": "code",
      "execution_count": 2,
      "metadata": {
        "id": "eq4sD5atqsLk"
      },
      "outputs": [],
      "source": [
        "# GRADED FUNCTION: zero_pad\n",
        "def zero_pad(X, pad):\n",
        "    \"\"\"\n",
        "    對image X 做 zero-padding. \n",
        "    參數定義如下:\n",
        "    X -- python numpy array, 呈現維度 (m, n_H, n_W, n_C), 代表一批 m 個圖像\n",
        "         n_H: 圖高, n_W: 圖寬, n_C: color channels 數\n",
        "    pad -- 整數, 加幾圈的 zero padding.\n",
        "    Returns:\n",
        "    X_pad -- image of shape (m, n_H + 2*pad, n_W + 2*pad, n_C) 做完zero-padding 的結果\n",
        "    \"\"\"\n",
        "    \n",
        "    X_pad = np.pad(X, ((0, 0), (pad, pad), (pad, pad), (0, 0)), 'constant', constant_values=(0, 0))\n",
        "  \n",
        "    return X_pad"
      ]
    },
    {
      "cell_type": "code",
      "execution_count": 3,
      "metadata": {
        "colab": {
          "base_uri": "https://localhost:8080/",
          "height": 589
        },
        "id": "qzZeVPREqsLk",
        "outputId": "d16cef36-e7ba-4b52-b1b9-d0cbe9eaab58"
      },
      "outputs": [
        {
          "name": "stdout",
          "output_type": "stream",
          "text": [
            "x.shape = (4, 5, 5, 2)\n",
            "x_pad.shape = (4, 11, 11, 2)\n",
            "x[1,1] = [[-0.75439794  1.25286816]\n",
            " [ 0.51292982 -0.29809284]\n",
            " [ 0.48851815 -0.07557171]\n",
            " [ 1.13162939  1.51981682]\n",
            " [ 2.18557541 -1.39649634]]\n",
            "x_pad[1,1] = [[0. 0.]\n",
            " [0. 0.]\n",
            " [0. 0.]\n",
            " [0. 0.]\n",
            " [0. 0.]\n",
            " [0. 0.]\n",
            " [0. 0.]\n",
            " [0. 0.]\n",
            " [0. 0.]\n",
            " [0. 0.]\n",
            " [0. 0.]]\n"
          ]
        },
        {
          "data": {
            "text/plain": [
              "<matplotlib.image.AxesImage at 0x7fb906ce5210>"
            ]
          },
          "execution_count": 3,
          "metadata": {},
          "output_type": "execute_result"
        },
        {
          "data": {
            "image/png": "[encoded data removed]",
            "text/plain": [
              "<Figure size 500x400 with 2 Axes>"
            ]
          },
          "metadata": {},
          "output_type": "display_data"
        }
      ],
      "source": [
        "np.random.seed(1)\n",
        "\n",
        "x = np.random.randn(4, 5, 5, 2) \n",
        "x_pad = zero_pad(x, 3) \n",
        "\n",
        "print (\"x.shape =\", x.shape)\n",
        "print (\"x_pad.shape =\", x_pad.shape)\n",
        "print (\"x[1,1] =\", x[1,1])\n",
        "print (\"x_pad[1,1] =\", x_pad[1,1])\n",
        "fig, axarr = plt.subplots(1, 2)\n",
        "axarr[0].set_title('x')\n",
        "axarr[0].imshow(x[0,:,:,0])\n",
        "axarr[1].set_title('x_pad')\n",
        "axarr[1].imshow(x_pad[0,:,:,0])"
      ]
    },
    {
      "cell_type": "code",
      "execution_count": 4,
      "metadata": {
        "id": "53cMQ76NqsLk"
      },
      "outputs": [],
      "source": [
        "# GRADED FUNCTION: pool_forward\n",
        "def pool_forward(A_prev, hparameters, mode = \"max\"):\n",
        "    \"\"\"\n",
        "    設計一個前行網路的池化層\n",
        "    參數定義如下:\n",
        "    A_prev -- 輸入的numpy 陣列, 維度 (m, n_H_prev, n_W_prev, n_C_prev)\n",
        "    hparameter 超參數 --  \"f\" and \"stride\" 所形成的python 字典\n",
        "    mode -- 池化的模式: \"max\" or \"average\"\n",
        "    \n",
        "    返回:\n",
        "        A -- 輸出的池化層, 維度為 (m, n_H, n_W, n_C) 的 numpy 陣列\n",
        "        cache -- 可以應用在 backward pass pooling layer 資料, 包含 input and hparameter\n",
        "    \"\"\"\n",
        "\n",
        "    # 檢索尺寸 from the input shape\n",
        "    (m, n_H_prev, n_W_prev, n_C_prev) = A_prev.shape\n",
        " \n",
        "    # 檢索超參數 from \"hparameters\"\n",
        "    f = hparameters[\"f\"]\n",
        "    stride = hparameters[\"stride\"]\n",
        "\n",
        "    # 定義輸出的dimensions\n",
        "    n_H = int(1 + (n_H_prev - f) / stride)\n",
        "    n_W = int(1 + (n_W_prev - f) / stride)\n",
        "    n_C = n_C_prev\n",
        "\n",
        "    # 初始化輸出的 matrix A\n",
        "    A = np.zeros((m, n_H, n_W, n_C))\n",
        "\n",
        "    ### 程式起始位置  ###\n",
        "    for i in range(m): # 訓練樣本的for 迴圈\n",
        "        for h in range(n_H): # 輸出樣本的for 迴圈, 針對vertical axis\n",
        "            for w in range(n_W): #  輸出樣本的for 迴圈, 針對 horizontal axis\n",
        "                for c in range (n_C): #  輸出樣本的for 迴圈, 針對channels\n",
        "\n",
        "                     # 找出特徵圖的寬度跟高度四個點\n",
        "                    vert_start = h * stride\n",
        "                    vert_end = h * stride+ f\n",
        "                    horiz_start = w * stride\n",
        "                    horiz_end = w * stride + f\n",
        "\n",
        "                    # 定義第i個訓練示例\n",
        "                    a_prev_slice = A_prev[i, vert_start:vert_end, horiz_start:horiz_end,c]\n",
        "\n",
        "                    # 計算輸入data 的池化結果. 使用 if statment 去做分類\n",
        "                    if mode == \"max\":\n",
        "                        A[i, h, w, c] = np.max(a_prev_slice)\n",
        "                    elif mode == \"average\":\n",
        "                        A[i, h, w, c] = np.mean(a_prev_slice)\n",
        "\n",
        "                        ### 程式結束  ###\n",
        "    \n",
        "    # 儲存輸入的特徵圖跟所設定的超參數, 可以用在 pool_backward()\n",
        "    cache = (A_prev, hparameters)\n",
        "    \n",
        "    # 確認輸出的資料維度\n",
        "    assert(A.shape == (m, n_H, n_W, n_C))\n",
        "    return A, cache"
      ]
    },
    {
      "cell_type": "code",
      "execution_count": 5,
      "metadata": {
        "colab": {
          "base_uri": "https://localhost:8080/"
        },
        "id": "-nuDdY0eqsLl",
        "outputId": "342f1266-462e-4e5e-bd08-fd21b6bb787a"
      },
      "outputs": [
        {
          "name": "stdout",
          "output_type": "stream",
          "text": [
            "mode = max\n",
            "A = [[[[1.74481176 1.6924546  1.65980218]\n",
            "   [0.37756379 1.46210794 2.10025514]\n",
            "   [1.19891788 1.25286816 0.88514116]\n",
            "   [1.13162939 1.51981682 2.18557541]]\n",
            "\n",
            "  [[1.29322588 0.84616065 1.0388246 ]\n",
            "   [2.18697965 1.16033857 1.27375593]\n",
            "   [2.19069973 1.04444209 1.95487808]\n",
            "   [0.90148689 2.52832571 1.9560789 ]]\n",
            "\n",
            "  [[1.55880554 2.05117344 1.40754   ]\n",
            "   [2.44936865 1.20205486 1.79215821]\n",
            "   [1.3887794  1.54335911 3.03085711]\n",
            "   [1.39984394 0.92145007 1.81053491]]\n",
            "\n",
            "  [[2.11060505 1.23289919 1.15528789]\n",
            "   [2.05635552 2.13782807 1.83471763]\n",
            "   [1.11584111 1.61336137 1.01012718]\n",
            "   [0.92001793 2.0546241  1.1157018 ]]]\n",
            "\n",
            "\n",
            " [[[1.69380911 1.78975468 1.86647138]\n",
            "   [1.10717545 1.46089238 1.45810824]\n",
            "   [1.19783084 1.76041518 1.62091229]\n",
            "   [1.04499441 0.6085147  1.7653351 ]]\n",
            "\n",
            "  [[1.1010002  1.22895559 1.30970591]\n",
            "   [1.03298378 1.74643509 1.71066184]\n",
            "   [0.98635218 3.9586027  1.38499134]\n",
            "   [1.85300949 0.98495167 1.07125243]]\n",
            "\n",
            "  [[1.91979229 1.57546791 1.42361443]\n",
            "   [3.32107876 1.2305582  1.22372221]\n",
            "   [1.00978733 1.4489894  1.30253554]\n",
            "   [1.53653633 1.49810818 2.50598029]]\n",
            "\n",
            "  [[0.72555052 1.70018815 1.10223673]\n",
            "   [1.85143789 0.95449567 2.29371761]\n",
            "   [1.15259914 2.39014596 0.67261975]\n",
            "   [2.42887697 1.2179409  0.84958685]]]]\n",
            "mode = average\n",
            "A = [[[[-0.05092282  0.28438391 -0.08515655]\n",
            "   [-0.24062888  0.11095745  0.12396959]\n",
            "   [ 0.25243746  0.39755604  0.06645485]\n",
            "   [-0.19607661  0.01281554  0.06799458]]\n",
            "\n",
            "  [[ 0.20229377 -0.22825694 -0.03396042]\n",
            "   [ 0.16214848  0.1296894   0.36531917]\n",
            "   [ 0.42541548 -0.19750999 -0.11614163]\n",
            "   [-0.11879406  0.07994073  0.458758  ]]\n",
            "\n",
            "  [[-0.26163127  0.54988903  0.1443109 ]\n",
            "   [ 0.31017911 -0.05780533  0.26573507]\n",
            "   [-0.02245196 -0.17251073  0.3595096 ]\n",
            "   [-0.11952186 -0.1582136   0.11573027]]\n",
            "\n",
            "  [[ 0.35185381  0.06752063 -0.17336446]\n",
            "   [ 0.00869056  0.17397993 -0.27088858]\n",
            "   [-0.28905822 -0.20919632 -0.2480147 ]\n",
            "   [-0.30602452  0.2493765   0.14018004]]]\n",
            "\n",
            "\n",
            " [[[ 0.38419742  0.08354185  0.38731229]\n",
            "   [-0.23249845  0.25915152 -0.00330096]\n",
            "   [-0.08161553  1.05176791  0.13571075]\n",
            "   [-0.33167248 -0.22277999 -0.23596384]]\n",
            "\n",
            "  [[ 0.15103898 -0.13529773 -0.46802794]\n",
            "   [-0.03842534 -0.00391628 -0.06608285]\n",
            "   [-0.51129407  0.91702201  0.29904675]\n",
            "   [ 0.22585978 -0.20893184 -0.10823827]]\n",
            "\n",
            "  [[-0.02425495  0.00292623  0.38254561]\n",
            "   [ 0.33361221 -0.14244967 -0.30001525]\n",
            "   [-0.20289257 -0.5079968  -0.18161721]\n",
            "   [-0.07046356  0.25280968  0.26575222]]\n",
            "\n",
            "  [[-0.21495573  0.40523117  0.0498673 ]\n",
            "   [-0.06042151  0.14062844  0.50877111]\n",
            "   [ 0.10583749  0.10402022 -0.34915989]\n",
            "   [ 0.39407137  0.06396711 -0.4394219 ]]]]\n"
          ]
        }
      ],
      "source": [
        "np.random.seed(1)\n",
        "\n",
        "A_prev = np.random.randn(2, 12, 12, 3)\n",
        "hparameters = {\"stride\" : 3, \"f\": 3}\n",
        "\n",
        "A, cache = pool_forward(A_prev, hparameters)\n",
        "print(\"mode = max\")\n",
        "print(\"A =\", A)\n",
        "\n",
        "A, cache = pool_forward(A_prev, hparameters, mode = \"average\")\n",
        "print(\"mode = average\")\n",
        "print(\"A =\", A)"
      ]
    }
  ],
  "metadata": {
    "colab": {
      "provenance": []
    },
    "kernelspec": {
      "display_name": "Python 3",
      "language": "python",
      "name": "python3"
    },
    "language_info": {
      "codemirror_mode": {
        "name": "ipython",
        "version": 3
      },
      "file_extension": ".py",
      "mimetype": "text/x-python",
      "name": "python",
      "nbconvert_exporter": "python",
      "pygments_lexer": "ipython3",
      "version": "3.6.8"
    }
  },
  "nbformat": 4,
  "nbformat_minor": 0
}
