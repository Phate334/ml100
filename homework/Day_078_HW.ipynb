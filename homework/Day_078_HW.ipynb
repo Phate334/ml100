{
  "nbformat": 4,
  "nbformat_minor": 0,
  "metadata": {
    "kernelspec": {
      "display_name": "Python 3",
      "language": "python",
      "name": "python3"
    },
    "language_info": {
      "codemirror_mode": {
        "name": "ipython",
        "version": 3
      },
      "file_extension": ".py",
      "mimetype": "text/x-python",
      "name": "python",
      "nbconvert_exporter": "python",
      "pygments_lexer": "ipython3",
      "version": "3.6.5"
    },
    "colab": {
      "provenance": []
    }
  },
  "cells": [
    {
      "cell_type": "markdown",
      "metadata": {
        "id": "auEAuEgT4oXE"
      },
      "source": [
        "## Work\n",
        "1. 請嘗試將 preproc_x 替換成以每筆資料的 min/max 進行標準化至 -1 ~ 1 間，再進行訓練\n",
        "2. 請嘗試將 mlp 疊更深 (e.g 5~10 層)，進行訓練後觀察 learning curve 的走勢\n",
        "3. (optional) 請改用 GPU 進行訓練 (可善用 google colab)，比較使用 CPU 與 GPU 的訓練速度"
      ]
    },
    {
      "cell_type": "code",
      "metadata": {
        "id": "L0HSsOA-4oXE"
      },
      "source": [
        "import os\n",
        "import keras\n",
        "from keras.datasets import cifar10\n",
        "import warnings\n",
        "warnings.filterwarnings('ignore')\n",
        "\n",
        "# 請嘗試設定 GPU：os.environ\n",
        "os.environ[\"CUDA_VISIBLE_DEVICES\"] = \"0\"\n"
      ],
      "execution_count": 1,
      "outputs": []
    },
    {
      "cell_type": "code",
      "metadata": {
        "id": "mD7ScVX24oXF",
        "colab": {
          "base_uri": "https://localhost:8080/"
        },
        "outputId": "3fc16e90-f292-4c04-d1cc-056df6d5af5e"
      },
      "source": [
        "train, test = keras.datasets.cifar10.load_data()"
      ],
      "execution_count": 2,
      "outputs": [
        {
          "output_type": "stream",
          "name": "stdout",
          "text": [
            "Downloading data from https://www.cs.toronto.edu/~kriz/cifar-10-python.tar.gz\n",
            "170498071/170498071 [==============================] - 2s 0us/step\n"
          ]
        }
      ]
    },
    {
      "cell_type": "code",
      "metadata": {
        "id": "cv2Wknx_4oXF"
      },
      "source": [
        "## 資料前處理\n",
        "def preproc_x(x, flatten=True):\n",
        "    x = 2 * (((x - x.min()) / (x.max() - x.min())) - 0.5)\n",
        "    if flatten:\n",
        "        x = x.reshape((len(x),-1))\n",
        "    return x\n",
        "\n",
        "def preproc_y(y, num_classes=10):\n",
        "    if y.shape[-1] == 1:\n",
        "        y = keras.utils.to_categorical(y, num_classes)\n",
        "    return y   "
      ],
      "execution_count": 3,
      "outputs": []
    },
    {
      "cell_type": "code",
      "metadata": {
        "id": "zp2WdT4d4oXF"
      },
      "source": [
        "x_train, y_train = train\n",
        "x_test, y_test = test\n",
        "\n",
        "# Preproc the inputs\n",
        "x_train = preproc_x(x_train)\n",
        "x_test = preproc_x(x_test)\n",
        "\n",
        "# Preprc the outputs\n",
        "y_train = preproc_y(y_train)\n",
        "y_test = preproc_y(y_test)"
      ],
      "execution_count": 4,
      "outputs": []
    },
    {
      "cell_type": "code",
      "metadata": {
        "id": "KBj2NiDK4oXF"
      },
      "source": [
        "\"\"\"Code Here\n",
        "建立你的神經網路\n",
        "\"\"\"\n",
        "def build_mlp(input_shape, output_units=10, num_neurons=[512, 256, 128, 128, 128]):\n",
        "    input_layer = keras.layers.Input(input_shape)\n",
        "    for i, n_units in enumerate(num_neurons):\n",
        "        if i == 0:\n",
        "            x = keras.layers.Dense(units=n_units, activation=\"relu\", name=\"hidden_layer\"+str(i+1))(input_layer)\n",
        "        else:\n",
        "            x = keras.layers.Dense(units=n_units, activation=\"relu\", name=\"hidden_layer\"+str(i+1))(x)\n",
        "    out = keras.layers.Dense(units=output_units, activation=\"softmax\", name=\"output\")(x)\n",
        "    model = keras.models.Model(inputs=[input_layer], outputs=[out])\n",
        "    return model"
      ],
      "execution_count": 5,
      "outputs": []
    },
    {
      "cell_type": "code",
      "source": [
        "model = build_mlp(input_shape=x_train.shape[1:])\n",
        "model.summary()"
      ],
      "metadata": {
        "colab": {
          "base_uri": "https://localhost:8080/"
        },
        "id": "Yhevzd4Jevmo",
        "outputId": "267e779d-ffad-4df8-aeae-f85da9f62a98"
      },
      "execution_count": 6,
      "outputs": [
        {
          "output_type": "stream",
          "name": "stdout",
          "text": [
            "Model: \"model\"\n",
            "_________________________________________________________________\n",
            " Layer (type)                Output Shape              Param #   \n",
            "=================================================================\n",
            " input_1 (InputLayer)        [(None, 3072)]            0         \n",
            "                                                                 \n",
            " hidden_layer1 (Dense)       (None, 512)               1573376   \n",
            "                                                                 \n",
            " hidden_layer2 (Dense)       (None, 256)               131328    \n",
            "                                                                 \n",
            " hidden_layer3 (Dense)       (None, 128)               32896     \n",
            "                                                                 \n",
            " hidden_layer4 (Dense)       (None, 128)               16512     \n",
            "                                                                 \n",
            " hidden_layer5 (Dense)       (None, 128)               16512     \n",
            "                                                                 \n",
            " output (Dense)              (None, 10)                1290      \n",
            "                                                                 \n",
            "=================================================================\n",
            "Total params: 1,771,914\n",
            "Trainable params: 1,771,914\n",
            "Non-trainable params: 0\n",
            "_________________________________________________________________\n"
          ]
        }
      ]
    },
    {
      "cell_type": "code",
      "metadata": {
        "id": "uejU37q-4oXF"
      },
      "source": [
        "## 超參數設定\n",
        "LEARNING_RATE = 0.001\n",
        "EPOCHS = 100\n",
        "BATCH_SIZE = 256"
      ],
      "execution_count": 7,
      "outputs": []
    },
    {
      "cell_type": "code",
      "metadata": {
        "id": "FePHihT34oXG"
      },
      "source": [
        "optimizer = keras.optimizers.Adam(lr=LEARNING_RATE)\n",
        "model.compile(loss=\"categorical_crossentropy\", metrics=[\"accuracy\"], optimizer=optimizer)"
      ],
      "execution_count": 8,
      "outputs": []
    },
    {
      "cell_type": "code",
      "metadata": {
        "id": "LmLgZXCQ4oXG",
        "outputId": "0c7bfa26-d5da-4bb9-98e2-9484096fcc2e",
        "colab": {
          "base_uri": "https://localhost:8080/"
        }
      },
      "source": [
        "model.fit(x_train, y_train, \n",
        "          epochs=EPOCHS, \n",
        "          batch_size=BATCH_SIZE, \n",
        "          validation_data=(x_test, y_test), \n",
        "          shuffle=True)"
      ],
      "execution_count": 9,
      "outputs": [
        {
          "output_type": "stream",
          "name": "stdout",
          "text": [
            "Epoch 1/100\n",
            "196/196 [==============================] - 13s 58ms/step - loss: 1.6863 - accuracy: 0.3999 - val_loss: 1.5167 - val_accuracy: 0.4687\n",
            "Epoch 2/100\n",
            "196/196 [==============================] - 12s 60ms/step - loss: 1.4608 - accuracy: 0.4830 - val_loss: 1.4549 - val_accuracy: 0.4837\n",
            "Epoch 3/100\n",
            "196/196 [==============================] - 12s 60ms/step - loss: 1.3384 - accuracy: 0.5280 - val_loss: 1.4043 - val_accuracy: 0.5125\n",
            "Epoch 4/100\n",
            "196/196 [==============================] - 12s 61ms/step - loss: 1.2499 - accuracy: 0.5563 - val_loss: 1.3905 - val_accuracy: 0.5018\n",
            "Epoch 5/100\n",
            "196/196 [==============================] - 13s 67ms/step - loss: 1.1631 - accuracy: 0.5875 - val_loss: 1.3897 - val_accuracy: 0.5201\n",
            "Epoch 6/100\n",
            "196/196 [==============================] - 12s 62ms/step - loss: 1.0856 - accuracy: 0.6157 - val_loss: 1.3474 - val_accuracy: 0.5356\n",
            "Epoch 7/100\n",
            "196/196 [==============================] - 12s 59ms/step - loss: 1.0106 - accuracy: 0.6421 - val_loss: 1.3532 - val_accuracy: 0.5346\n",
            "Epoch 8/100\n",
            "196/196 [==============================] - 12s 63ms/step - loss: 0.9401 - accuracy: 0.6670 - val_loss: 1.3674 - val_accuracy: 0.5392\n",
            "Epoch 9/100\n",
            "196/196 [==============================] - 13s 66ms/step - loss: 0.8756 - accuracy: 0.6913 - val_loss: 1.4268 - val_accuracy: 0.5364\n",
            "Epoch 10/100\n",
            "196/196 [==============================] - 12s 61ms/step - loss: 0.8089 - accuracy: 0.7143 - val_loss: 1.4629 - val_accuracy: 0.5397\n",
            "Epoch 11/100\n",
            "196/196 [==============================] - 13s 69ms/step - loss: 0.7453 - accuracy: 0.7348 - val_loss: 1.5320 - val_accuracy: 0.5380\n",
            "Epoch 12/100\n",
            "196/196 [==============================] - 13s 65ms/step - loss: 0.6895 - accuracy: 0.7550 - val_loss: 1.5374 - val_accuracy: 0.5368\n",
            "Epoch 13/100\n",
            "196/196 [==============================] - 12s 64ms/step - loss: 0.6290 - accuracy: 0.7752 - val_loss: 1.6504 - val_accuracy: 0.5366\n",
            "Epoch 14/100\n",
            "196/196 [==============================] - 13s 66ms/step - loss: 0.5773 - accuracy: 0.7942 - val_loss: 1.7096 - val_accuracy: 0.5340\n",
            "Epoch 15/100\n",
            "196/196 [==============================] - 12s 63ms/step - loss: 0.5324 - accuracy: 0.8101 - val_loss: 1.7648 - val_accuracy: 0.5408\n",
            "Epoch 16/100\n",
            "196/196 [==============================] - 12s 63ms/step - loss: 0.4679 - accuracy: 0.8346 - val_loss: 1.8719 - val_accuracy: 0.5351\n",
            "Epoch 17/100\n",
            "196/196 [==============================] - 11s 57ms/step - loss: 0.4536 - accuracy: 0.8406 - val_loss: 1.9581 - val_accuracy: 0.5353\n",
            "Epoch 18/100\n",
            "196/196 [==============================] - 12s 59ms/step - loss: 0.4128 - accuracy: 0.8540 - val_loss: 2.0400 - val_accuracy: 0.5304\n",
            "Epoch 19/100\n",
            "196/196 [==============================] - 13s 64ms/step - loss: 0.3820 - accuracy: 0.8654 - val_loss: 2.1116 - val_accuracy: 0.5352\n",
            "Epoch 20/100\n",
            "196/196 [==============================] - 12s 62ms/step - loss: 0.3540 - accuracy: 0.8759 - val_loss: 2.1890 - val_accuracy: 0.5337\n",
            "Epoch 21/100\n",
            "196/196 [==============================] - 14s 70ms/step - loss: 0.3226 - accuracy: 0.8854 - val_loss: 2.2920 - val_accuracy: 0.5300\n",
            "Epoch 22/100\n",
            "196/196 [==============================] - 12s 61ms/step - loss: 0.3089 - accuracy: 0.8900 - val_loss: 2.3629 - val_accuracy: 0.5295\n",
            "Epoch 23/100\n",
            "196/196 [==============================] - 12s 63ms/step - loss: 0.2865 - accuracy: 0.9008 - val_loss: 2.4722 - val_accuracy: 0.5283\n",
            "Epoch 24/100\n",
            "196/196 [==============================] - 12s 62ms/step - loss: 0.2734 - accuracy: 0.9037 - val_loss: 2.6235 - val_accuracy: 0.5360\n",
            "Epoch 25/100\n",
            "196/196 [==============================] - 12s 62ms/step - loss: 0.2591 - accuracy: 0.9093 - val_loss: 2.5370 - val_accuracy: 0.5254\n",
            "Epoch 26/100\n",
            "196/196 [==============================] - 12s 60ms/step - loss: 0.2454 - accuracy: 0.9146 - val_loss: 2.7804 - val_accuracy: 0.5333\n",
            "Epoch 27/100\n",
            "196/196 [==============================] - 12s 61ms/step - loss: 0.2374 - accuracy: 0.9185 - val_loss: 2.8161 - val_accuracy: 0.5261\n",
            "Epoch 28/100\n",
            "196/196 [==============================] - 10s 53ms/step - loss: 0.2168 - accuracy: 0.9250 - val_loss: 2.9284 - val_accuracy: 0.5389\n",
            "Epoch 29/100\n",
            "196/196 [==============================] - 11s 58ms/step - loss: 0.2008 - accuracy: 0.9297 - val_loss: 2.8913 - val_accuracy: 0.5301\n",
            "Epoch 30/100\n",
            "196/196 [==============================] - 12s 62ms/step - loss: 0.2037 - accuracy: 0.9289 - val_loss: 2.9504 - val_accuracy: 0.5289\n",
            "Epoch 31/100\n",
            "196/196 [==============================] - 12s 61ms/step - loss: 0.1915 - accuracy: 0.9327 - val_loss: 3.0222 - val_accuracy: 0.5291\n",
            "Epoch 32/100\n",
            "196/196 [==============================] - 12s 61ms/step - loss: 0.1914 - accuracy: 0.9341 - val_loss: 3.1417 - val_accuracy: 0.5313\n",
            "Epoch 33/100\n",
            "196/196 [==============================] - 12s 61ms/step - loss: 0.1929 - accuracy: 0.9331 - val_loss: 3.1318 - val_accuracy: 0.5218\n",
            "Epoch 34/100\n",
            "196/196 [==============================] - 12s 61ms/step - loss: 0.1797 - accuracy: 0.9384 - val_loss: 3.0981 - val_accuracy: 0.5300\n",
            "Epoch 35/100\n",
            "196/196 [==============================] - 12s 61ms/step - loss: 0.1871 - accuracy: 0.9363 - val_loss: 3.2378 - val_accuracy: 0.5255\n",
            "Epoch 36/100\n",
            "196/196 [==============================] - 13s 68ms/step - loss: 0.1525 - accuracy: 0.9485 - val_loss: 3.1688 - val_accuracy: 0.5346\n",
            "Epoch 37/100\n",
            "196/196 [==============================] - 13s 65ms/step - loss: 0.1699 - accuracy: 0.9426 - val_loss: 3.2599 - val_accuracy: 0.5329\n",
            "Epoch 38/100\n",
            "196/196 [==============================] - 12s 62ms/step - loss: 0.1707 - accuracy: 0.9413 - val_loss: 3.2974 - val_accuracy: 0.5284\n",
            "Epoch 39/100\n",
            "196/196 [==============================] - 11s 55ms/step - loss: 0.1531 - accuracy: 0.9479 - val_loss: 3.3272 - val_accuracy: 0.5328\n",
            "Epoch 40/100\n",
            "196/196 [==============================] - 11s 56ms/step - loss: 0.1589 - accuracy: 0.9467 - val_loss: 3.3619 - val_accuracy: 0.5304\n",
            "Epoch 41/100\n",
            "196/196 [==============================] - 12s 60ms/step - loss: 0.1480 - accuracy: 0.9493 - val_loss: 3.4090 - val_accuracy: 0.5331\n",
            "Epoch 42/100\n",
            "196/196 [==============================] - 12s 62ms/step - loss: 0.1502 - accuracy: 0.9491 - val_loss: 3.3462 - val_accuracy: 0.5312\n",
            "Epoch 43/100\n",
            "196/196 [==============================] - 12s 63ms/step - loss: 0.1326 - accuracy: 0.9553 - val_loss: 3.5871 - val_accuracy: 0.5274\n",
            "Epoch 44/100\n",
            "196/196 [==============================] - 12s 60ms/step - loss: 0.1309 - accuracy: 0.9551 - val_loss: 3.5511 - val_accuracy: 0.5275\n",
            "Epoch 45/100\n",
            "196/196 [==============================] - 12s 60ms/step - loss: 0.1341 - accuracy: 0.9555 - val_loss: 3.6749 - val_accuracy: 0.5301\n",
            "Epoch 46/100\n",
            "196/196 [==============================] - 11s 58ms/step - loss: 0.1179 - accuracy: 0.9606 - val_loss: 3.7898 - val_accuracy: 0.5259\n",
            "Epoch 47/100\n",
            "196/196 [==============================] - 11s 54ms/step - loss: 0.1255 - accuracy: 0.9564 - val_loss: 3.5405 - val_accuracy: 0.5278\n",
            "Epoch 48/100\n",
            "196/196 [==============================] - 11s 58ms/step - loss: 0.1261 - accuracy: 0.9576 - val_loss: 3.6556 - val_accuracy: 0.5283\n",
            "Epoch 49/100\n",
            "196/196 [==============================] - 12s 61ms/step - loss: 0.1140 - accuracy: 0.9616 - val_loss: 3.7952 - val_accuracy: 0.5319\n",
            "Epoch 50/100\n",
            "196/196 [==============================] - 12s 60ms/step - loss: 0.1432 - accuracy: 0.9523 - val_loss: 3.6252 - val_accuracy: 0.5388\n",
            "Epoch 51/100\n",
            "196/196 [==============================] - 12s 59ms/step - loss: 0.1127 - accuracy: 0.9618 - val_loss: 3.6301 - val_accuracy: 0.5338\n",
            "Epoch 52/100\n",
            "196/196 [==============================] - 12s 61ms/step - loss: 0.1184 - accuracy: 0.9606 - val_loss: 3.7249 - val_accuracy: 0.5243\n",
            "Epoch 53/100\n",
            "196/196 [==============================] - 11s 58ms/step - loss: 0.1098 - accuracy: 0.9628 - val_loss: 3.6828 - val_accuracy: 0.5341\n",
            "Epoch 54/100\n",
            "196/196 [==============================] - 13s 66ms/step - loss: 0.1073 - accuracy: 0.9643 - val_loss: 3.8506 - val_accuracy: 0.5248\n",
            "Epoch 55/100\n",
            "196/196 [==============================] - 13s 64ms/step - loss: 0.1119 - accuracy: 0.9621 - val_loss: 3.8990 - val_accuracy: 0.5304\n",
            "Epoch 56/100\n",
            "196/196 [==============================] - 13s 64ms/step - loss: 0.1125 - accuracy: 0.9632 - val_loss: 3.8714 - val_accuracy: 0.5337\n",
            "Epoch 57/100\n",
            "196/196 [==============================] - 10s 52ms/step - loss: 0.1203 - accuracy: 0.9597 - val_loss: 3.8242 - val_accuracy: 0.5315\n",
            "Epoch 58/100\n",
            "196/196 [==============================] - 12s 61ms/step - loss: 0.0922 - accuracy: 0.9690 - val_loss: 3.8364 - val_accuracy: 0.5285\n",
            "Epoch 59/100\n",
            "196/196 [==============================] - 12s 61ms/step - loss: 0.1058 - accuracy: 0.9650 - val_loss: 4.1146 - val_accuracy: 0.5291\n",
            "Epoch 60/100\n",
            "196/196 [==============================] - 12s 60ms/step - loss: 0.1125 - accuracy: 0.9632 - val_loss: 3.8648 - val_accuracy: 0.5379\n",
            "Epoch 61/100\n",
            "196/196 [==============================] - 12s 59ms/step - loss: 0.0968 - accuracy: 0.9685 - val_loss: 3.8831 - val_accuracy: 0.5338\n",
            "Epoch 62/100\n",
            "196/196 [==============================] - 12s 63ms/step - loss: 0.0971 - accuracy: 0.9682 - val_loss: 3.9446 - val_accuracy: 0.5245\n",
            "Epoch 63/100\n",
            "196/196 [==============================] - 12s 62ms/step - loss: 0.1072 - accuracy: 0.9648 - val_loss: 4.0423 - val_accuracy: 0.5303\n",
            "Epoch 64/100\n",
            "196/196 [==============================] - 11s 59ms/step - loss: 0.1045 - accuracy: 0.9658 - val_loss: 3.8001 - val_accuracy: 0.5306\n",
            "Epoch 65/100\n",
            "196/196 [==============================] - 12s 62ms/step - loss: 0.1008 - accuracy: 0.9673 - val_loss: 4.0022 - val_accuracy: 0.5288\n",
            "Epoch 66/100\n",
            "196/196 [==============================] - 11s 55ms/step - loss: 0.0870 - accuracy: 0.9721 - val_loss: 4.1160 - val_accuracy: 0.5272\n",
            "Epoch 67/100\n",
            "196/196 [==============================] - 12s 59ms/step - loss: 0.0914 - accuracy: 0.9698 - val_loss: 4.0250 - val_accuracy: 0.5380\n",
            "Epoch 68/100\n",
            "196/196 [==============================] - 12s 61ms/step - loss: 0.0890 - accuracy: 0.9705 - val_loss: 4.0370 - val_accuracy: 0.5237\n",
            "Epoch 69/100\n",
            "196/196 [==============================] - 12s 62ms/step - loss: 0.1044 - accuracy: 0.9655 - val_loss: 3.8133 - val_accuracy: 0.5314\n",
            "Epoch 70/100\n",
            "196/196 [==============================] - 12s 63ms/step - loss: 0.0955 - accuracy: 0.9689 - val_loss: 4.0346 - val_accuracy: 0.5335\n",
            "Epoch 71/100\n",
            "196/196 [==============================] - 11s 58ms/step - loss: 0.0813 - accuracy: 0.9734 - val_loss: 4.0226 - val_accuracy: 0.5368\n",
            "Epoch 72/100\n",
            "196/196 [==============================] - 12s 60ms/step - loss: 0.0894 - accuracy: 0.9711 - val_loss: 4.0624 - val_accuracy: 0.5321\n",
            "Epoch 73/100\n",
            "196/196 [==============================] - 13s 64ms/step - loss: 0.0879 - accuracy: 0.9716 - val_loss: 4.1106 - val_accuracy: 0.5214\n",
            "Epoch 74/100\n",
            "196/196 [==============================] - 12s 63ms/step - loss: 0.0759 - accuracy: 0.9750 - val_loss: 4.3203 - val_accuracy: 0.5338\n",
            "Epoch 75/100\n",
            "196/196 [==============================] - 10s 53ms/step - loss: 0.0876 - accuracy: 0.9708 - val_loss: 4.0829 - val_accuracy: 0.5330\n",
            "Epoch 76/100\n",
            "196/196 [==============================] - 11s 58ms/step - loss: 0.0838 - accuracy: 0.9732 - val_loss: 4.0600 - val_accuracy: 0.5368\n",
            "Epoch 77/100\n",
            "196/196 [==============================] - 11s 59ms/step - loss: 0.0837 - accuracy: 0.9732 - val_loss: 4.0516 - val_accuracy: 0.5318\n",
            "Epoch 78/100\n",
            "196/196 [==============================] - 12s 61ms/step - loss: 0.0768 - accuracy: 0.9746 - val_loss: 4.2089 - val_accuracy: 0.5334\n",
            "Epoch 79/100\n",
            "196/196 [==============================] - 12s 61ms/step - loss: 0.0867 - accuracy: 0.9721 - val_loss: 4.1603 - val_accuracy: 0.5339\n",
            "Epoch 80/100\n",
            "196/196 [==============================] - 11s 57ms/step - loss: 0.0860 - accuracy: 0.9721 - val_loss: 4.1778 - val_accuracy: 0.5273\n",
            "Epoch 81/100\n",
            "196/196 [==============================] - 11s 56ms/step - loss: 0.0784 - accuracy: 0.9747 - val_loss: 4.1472 - val_accuracy: 0.5324\n",
            "Epoch 82/100\n",
            "196/196 [==============================] - 10s 53ms/step - loss: 0.0884 - accuracy: 0.9714 - val_loss: 3.9727 - val_accuracy: 0.5239\n",
            "Epoch 83/100\n",
            "196/196 [==============================] - 11s 54ms/step - loss: 0.0802 - accuracy: 0.9736 - val_loss: 4.1932 - val_accuracy: 0.5334\n",
            "Epoch 84/100\n",
            "196/196 [==============================] - 12s 61ms/step - loss: 0.0754 - accuracy: 0.9753 - val_loss: 4.1838 - val_accuracy: 0.5300\n",
            "Epoch 85/100\n",
            "196/196 [==============================] - 11s 58ms/step - loss: 0.0797 - accuracy: 0.9735 - val_loss: 4.1294 - val_accuracy: 0.5269\n",
            "Epoch 86/100\n",
            "196/196 [==============================] - 12s 59ms/step - loss: 0.0776 - accuracy: 0.9748 - val_loss: 4.1608 - val_accuracy: 0.5277\n",
            "Epoch 87/100\n",
            "196/196 [==============================] - 11s 57ms/step - loss: 0.0696 - accuracy: 0.9782 - val_loss: 4.2574 - val_accuracy: 0.5317\n",
            "Epoch 88/100\n",
            "196/196 [==============================] - 12s 59ms/step - loss: 0.0769 - accuracy: 0.9758 - val_loss: 4.1586 - val_accuracy: 0.5283\n",
            "Epoch 89/100\n",
            "196/196 [==============================] - 11s 54ms/step - loss: 0.0706 - accuracy: 0.9780 - val_loss: 4.1677 - val_accuracy: 0.5327\n",
            "Epoch 90/100\n",
            "196/196 [==============================] - 12s 60ms/step - loss: 0.0708 - accuracy: 0.9770 - val_loss: 4.2907 - val_accuracy: 0.5334\n",
            "Epoch 91/100\n",
            "196/196 [==============================] - 12s 62ms/step - loss: 0.0821 - accuracy: 0.9732 - val_loss: 4.3308 - val_accuracy: 0.5331\n",
            "Epoch 92/100\n",
            "196/196 [==============================] - 12s 60ms/step - loss: 0.0715 - accuracy: 0.9771 - val_loss: 4.1080 - val_accuracy: 0.5346\n",
            "Epoch 93/100\n",
            "196/196 [==============================] - 12s 62ms/step - loss: 0.0679 - accuracy: 0.9783 - val_loss: 4.3197 - val_accuracy: 0.5381\n",
            "Epoch 94/100\n",
            "196/196 [==============================] - 12s 61ms/step - loss: 0.0841 - accuracy: 0.9727 - val_loss: 4.2952 - val_accuracy: 0.5281\n",
            "Epoch 95/100\n",
            "196/196 [==============================] - 12s 59ms/step - loss: 0.0624 - accuracy: 0.9795 - val_loss: 4.3026 - val_accuracy: 0.5377\n",
            "Epoch 96/100\n",
            "196/196 [==============================] - 11s 56ms/step - loss: 0.0731 - accuracy: 0.9769 - val_loss: 4.3855 - val_accuracy: 0.5349\n",
            "Epoch 97/100\n",
            "196/196 [==============================] - 11s 55ms/step - loss: 0.0675 - accuracy: 0.9776 - val_loss: 4.3030 - val_accuracy: 0.5302\n",
            "Epoch 98/100\n",
            "196/196 [==============================] - 12s 61ms/step - loss: 0.0711 - accuracy: 0.9771 - val_loss: 4.3089 - val_accuracy: 0.5352\n",
            "Epoch 99/100\n",
            "196/196 [==============================] - 12s 62ms/step - loss: 0.0682 - accuracy: 0.9783 - val_loss: 4.3535 - val_accuracy: 0.5355\n",
            "Epoch 100/100\n",
            "196/196 [==============================] - 11s 58ms/step - loss: 0.0695 - accuracy: 0.9783 - val_loss: 4.3778 - val_accuracy: 0.5243\n"
          ]
        },
        {
          "output_type": "execute_result",
          "data": {
            "text/plain": [
              "<keras.callbacks.History at 0x7f17cc24fc40>"
            ]
          },
          "metadata": {},
          "execution_count": 9
        }
      ]
    },
    {
      "cell_type": "code",
      "metadata": {
        "id": "jThDeFlL4oXG",
        "outputId": "bd524803-c8ec-439f-fe11-07ac759f38c9",
        "colab": {
          "base_uri": "https://localhost:8080/",
          "height": 887
        }
      },
      "source": [
        "import matplotlib.pyplot as plt\n",
        "\n",
        "\n",
        "train_loss = model.history.history[\"loss\"]\n",
        "valid_loss = model.history.history[\"val_loss\"]\n",
        "\n",
        "train_acc = model.history.history[\"accuracy\"]\n",
        "valid_acc = model.history.history[\"val_accuracy\"]\n",
        "\n",
        "plt.plot(range(len(train_loss)), train_loss, label=\"train loss\")\n",
        "plt.plot(range(len(valid_loss)), valid_loss, label=\"valid loss\")\n",
        "plt.legend()\n",
        "plt.title(\"Loss\")\n",
        "plt.show()\n",
        "\n",
        "plt.plot(range(len(train_acc)), train_acc, label=\"train accuracy\")\n",
        "plt.plot(range(len(valid_acc)), valid_acc, label=\"valid accuracy\")\n",
        "plt.legend()\n",
        "plt.title(\"Accuracy\")\n",
        "plt.show()"
      ],
      "execution_count": 11,
      "outputs": [
        {
          "output_type": "display_data",
          "data": {
            "text/plain": [
              "<Figure size 640x480 with 1 Axes>"
            ],
            "image/png": "[encoded data removed]"
          },
          "metadata": {}
        },
        {
          "output_type": "display_data",
          "data": {
            "text/plain": [
              "<Figure size 640x480 with 1 Axes>"
            ],
            "image/png": "[encoded data removed]"
          },
          "metadata": {}
        }
      ]
    }
  ]
}