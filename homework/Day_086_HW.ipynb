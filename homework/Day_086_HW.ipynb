{
  "cells": [
    {
      "cell_type": "markdown",
      "metadata": {
        "id": "1n0wbrQR3Rei"
      },
      "source": [
        "## Work\n",
        "1. 試比較 save_best_only 與否的差異\n",
        "2. 請僅存入將 save_weights_only 設定為 True, 並嘗試 reset ipynb 並將模型與權重重新建回並預測 x_test"
      ]
    },
    {
      "cell_type": "code",
      "execution_count": 1,
      "metadata": {
        "id": "8-MbLXfN3Rel"
      },
      "outputs": [],
      "source": [
        "import os\n",
        "import keras\n",
        "from keras.datasets import cifar10\n",
        "\n",
        "os.environ[\"CUDA_VISIBLE_DEVICES\"] = \"0\""
      ]
    },
    {
      "cell_type": "code",
      "execution_count": 2,
      "metadata": {
        "colab": {
          "base_uri": "https://localhost:8080/"
        },
        "id": "wUDU57p93Rem",
        "outputId": "29fadfb6-4810-4beb-980b-b1c7064d711b"
      },
      "outputs": [
        {
          "output_type": "stream",
          "name": "stdout",
          "text": [
            "Downloading data from https://www.cs.toronto.edu/~kriz/cifar-10-python.tar.gz\n",
            "170498071/170498071 [==============================] - 4s 0us/step\n"
          ]
        }
      ],
      "source": [
        "train, test = keras.datasets.cifar10.load_data()"
      ]
    },
    {
      "cell_type": "code",
      "execution_count": 3,
      "metadata": {
        "id": "3__HwO0L3Rem"
      },
      "outputs": [],
      "source": [
        "## 資料前處理\n",
        "def preproc_x(x, flatten=True):\n",
        "    x = x / 255.\n",
        "    if flatten:\n",
        "        x = x.reshape((len(x), -1))\n",
        "    return x\n",
        "\n",
        "def preproc_y(y, num_classes=10):\n",
        "    if y.shape[-1] == 1:\n",
        "        y = keras.utils.to_categorical(y, num_classes)\n",
        "    return y    "
      ]
    },
    {
      "cell_type": "code",
      "execution_count": 4,
      "metadata": {
        "id": "3GL7pb_E3Ren"
      },
      "outputs": [],
      "source": [
        "x_train, y_train = train\n",
        "x_test, y_test = test\n",
        "\n",
        "# Preproc the inputs\n",
        "x_train = preproc_x(x_train)\n",
        "x_test = preproc_x(x_test)\n",
        "\n",
        "# Preprc the outputs\n",
        "y_train = preproc_y(y_train)\n",
        "y_test = preproc_y(y_test)"
      ]
    },
    {
      "cell_type": "code",
      "execution_count": 5,
      "metadata": {
        "id": "i2QXL3qG3Ren"
      },
      "outputs": [],
      "source": [
        "from keras.layers import BatchNormalization\n",
        "\n",
        "def build_mlp(input_shape, output_units=10, num_neurons=[512, 256, 128]):\n",
        "    input_layer = keras.layers.Input(input_shape)\n",
        "    \n",
        "    for i, n_units in enumerate(num_neurons):\n",
        "        if i == 0:\n",
        "            x = keras.layers.Dense(units=n_units, \n",
        "                                   activation=\"relu\", \n",
        "                                   name=\"hidden_layer\"+str(i+1))(input_layer)\n",
        "            x = BatchNormalization()(x)\n",
        "        else:\n",
        "            x = keras.layers.Dense(units=n_units, \n",
        "                                   activation=\"relu\", \n",
        "                                   name=\"hidden_layer\"+str(i+1))(x)\n",
        "            x = BatchNormalization()(x)\n",
        "    \n",
        "    out = keras.layers.Dense(units=output_units, activation=\"softmax\", name=\"output\")(x)\n",
        "    \n",
        "    model = keras.models.Model(inputs=[input_layer], outputs=[out])\n",
        "    return model"
      ]
    },
    {
      "cell_type": "code",
      "execution_count": 6,
      "metadata": {
        "id": "WP7lO0T43Ren"
      },
      "outputs": [],
      "source": [
        "\"\"\"Code Here\n",
        "設定超參數\n",
        "\"\"\"\n",
        "LEARNING_RATE = 1e-3\n",
        "EPOCHS = 50\n",
        "BATCH_SIZE = 512\n",
        "MOMENTUM = 0.95"
      ]
    },
    {
      "cell_type": "code",
      "execution_count": 7,
      "metadata": {
        "colab": {
          "base_uri": "https://localhost:8080/"
        },
        "id": "4_dTE4Va3Reo",
        "outputId": "77e372df-bab1-413f-d2e9-b2af89d7c699"
      },
      "outputs": [
        {
          "output_type": "stream",
          "name": "stdout",
          "text": [
            "Model: \"model\"\n",
            "_________________________________________________________________\n",
            " Layer (type)                Output Shape              Param #   \n",
            "=================================================================\n",
            " input_1 (InputLayer)        [(None, 3072)]            0         \n",
            "                                                                 \n",
            " hidden_layer1 (Dense)       (None, 512)               1573376   \n",
            "                                                                 \n",
            " batch_normalization (BatchN  (None, 512)              2048      \n",
            " ormalization)                                                   \n",
            "                                                                 \n",
            " hidden_layer2 (Dense)       (None, 256)               131328    \n",
            "                                                                 \n",
            " batch_normalization_1 (Batc  (None, 256)              1024      \n",
            " hNormalization)                                                 \n",
            "                                                                 \n",
            " hidden_layer3 (Dense)       (None, 128)               32896     \n",
            "                                                                 \n",
            " batch_normalization_2 (Batc  (None, 128)              512       \n",
            " hNormalization)                                                 \n",
            "                                                                 \n",
            " output (Dense)              (None, 10)                1290      \n",
            "                                                                 \n",
            "=================================================================\n",
            "Total params: 1,742,474\n",
            "Trainable params: 1,740,682\n",
            "Non-trainable params: 1,792\n",
            "_________________________________________________________________\n"
          ]
        },
        {
          "output_type": "stream",
          "name": "stderr",
          "text": [
            "/usr/local/lib/python3.9/dist-packages/keras/optimizers/legacy/gradient_descent.py:114: UserWarning: The `lr` argument is deprecated, use `learning_rate` instead.\n",
            "  super().__init__(name, **kwargs)\n"
          ]
        },
        {
          "output_type": "stream",
          "name": "stdout",
          "text": [
            "Epoch 1/50\n",
            "98/98 [==============================] - 16s 131ms/step - loss: 1.9825 - accuracy: 0.3272 - val_loss: 2.0251 - val_accuracy: 0.2563\n",
            "Epoch 2/50\n",
            "98/98 [==============================] - 12s 119ms/step - loss: 1.6125 - accuracy: 0.4309 - val_loss: 1.7445 - val_accuracy: 0.3889\n",
            "Epoch 3/50\n",
            "98/98 [==============================] - 12s 126ms/step - loss: 1.5081 - accuracy: 0.4679 - val_loss: 1.6060 - val_accuracy: 0.4379\n",
            "Epoch 4/50\n",
            "98/98 [==============================] - 12s 120ms/step - loss: 1.4405 - accuracy: 0.4936 - val_loss: 1.5415 - val_accuracy: 0.4564\n",
            "Epoch 5/50\n",
            "98/98 [==============================] - 12s 126ms/step - loss: 1.3835 - accuracy: 0.5141 - val_loss: 1.5207 - val_accuracy: 0.4639\n",
            "Epoch 6/50\n",
            "98/98 [==============================] - 10s 99ms/step - loss: 1.3336 - accuracy: 0.5325 - val_loss: 1.5008 - val_accuracy: 0.4694\n",
            "Epoch 7/50\n",
            "98/98 [==============================] - 12s 118ms/step - loss: 1.2891 - accuracy: 0.5490 - val_loss: 1.4725 - val_accuracy: 0.4769\n",
            "Epoch 8/50\n",
            "98/98 [==============================] - 13s 133ms/step - loss: 1.2484 - accuracy: 0.5647 - val_loss: 1.4741 - val_accuracy: 0.4825\n",
            "Epoch 9/50\n",
            "98/98 [==============================] - 11s 116ms/step - loss: 1.2091 - accuracy: 0.5796 - val_loss: 1.4897 - val_accuracy: 0.4801\n",
            "Epoch 10/50\n",
            "98/98 [==============================] - 12s 119ms/step - loss: 1.1749 - accuracy: 0.5921 - val_loss: 1.4600 - val_accuracy: 0.4823\n",
            "Epoch 11/50\n",
            "98/98 [==============================] - 12s 119ms/step - loss: 1.1401 - accuracy: 0.6046 - val_loss: 1.4655 - val_accuracy: 0.4889\n",
            "Epoch 12/50\n",
            "98/98 [==============================] - 11s 117ms/step - loss: 1.1053 - accuracy: 0.6172 - val_loss: 1.4658 - val_accuracy: 0.4821\n",
            "Epoch 13/50\n",
            "98/98 [==============================] - 10s 105ms/step - loss: 1.0759 - accuracy: 0.6306 - val_loss: 1.4826 - val_accuracy: 0.4900\n",
            "Epoch 14/50\n",
            "98/98 [==============================] - 11s 114ms/step - loss: 1.0429 - accuracy: 0.6417 - val_loss: 1.4935 - val_accuracy: 0.4763\n",
            "Epoch 15/50\n",
            "98/98 [==============================] - 12s 120ms/step - loss: 1.0130 - accuracy: 0.6539 - val_loss: 1.4619 - val_accuracy: 0.4940\n",
            "Epoch 16/50\n",
            "98/98 [==============================] - 12s 120ms/step - loss: 0.9801 - accuracy: 0.6680 - val_loss: 1.4552 - val_accuracy: 0.4974\n",
            "Epoch 17/50\n",
            "98/98 [==============================] - 12s 117ms/step - loss: 0.9521 - accuracy: 0.6758 - val_loss: 1.4997 - val_accuracy: 0.4889\n",
            "Epoch 18/50\n",
            "98/98 [==============================] - 11s 112ms/step - loss: 0.9232 - accuracy: 0.6877 - val_loss: 1.4697 - val_accuracy: 0.4951\n",
            "Epoch 19/50\n",
            "98/98 [==============================] - 11s 111ms/step - loss: 0.8941 - accuracy: 0.6973 - val_loss: 1.5032 - val_accuracy: 0.4940\n",
            "Epoch 20/50\n",
            "98/98 [==============================] - 11s 112ms/step - loss: 0.8640 - accuracy: 0.7103 - val_loss: 1.4912 - val_accuracy: 0.4924\n",
            "Epoch 21/50\n",
            "98/98 [==============================] - 12s 119ms/step - loss: 0.8362 - accuracy: 0.7212 - val_loss: 1.4953 - val_accuracy: 0.4949\n",
            "Epoch 22/50\n",
            "98/98 [==============================] - 12s 125ms/step - loss: 0.8052 - accuracy: 0.7326 - val_loss: 1.5190 - val_accuracy: 0.4920\n",
            "Epoch 23/50\n",
            "98/98 [==============================] - 12s 118ms/step - loss: 0.7763 - accuracy: 0.7453 - val_loss: 1.5380 - val_accuracy: 0.4872\n",
            "Epoch 24/50\n",
            "98/98 [==============================] - 12s 121ms/step - loss: 0.7522 - accuracy: 0.7522 - val_loss: 1.5239 - val_accuracy: 0.4917\n",
            "Epoch 25/50\n",
            "98/98 [==============================] - 12s 124ms/step - loss: 0.7280 - accuracy: 0.7612 - val_loss: 1.5489 - val_accuracy: 0.4854\n",
            "Epoch 26/50\n",
            "98/98 [==============================] - 12s 119ms/step - loss: 0.6981 - accuracy: 0.7759 - val_loss: 1.6231 - val_accuracy: 0.4798\n",
            "Epoch 27/50\n",
            "98/98 [==============================] - 10s 99ms/step - loss: 0.6726 - accuracy: 0.7844 - val_loss: 1.5627 - val_accuracy: 0.4980\n",
            "Epoch 28/50\n",
            "98/98 [==============================] - 12s 124ms/step - loss: 0.6453 - accuracy: 0.7942 - val_loss: 1.6047 - val_accuracy: 0.4876\n",
            "Epoch 29/50\n",
            "98/98 [==============================] - 12s 120ms/step - loss: 0.6172 - accuracy: 0.8052 - val_loss: 1.6496 - val_accuracy: 0.4929\n",
            "Epoch 30/50\n",
            "98/98 [==============================] - 12s 120ms/step - loss: 0.5942 - accuracy: 0.8142 - val_loss: 1.6402 - val_accuracy: 0.4851\n",
            "Epoch 31/50\n",
            "98/98 [==============================] - 12s 119ms/step - loss: 0.5725 - accuracy: 0.8214 - val_loss: 1.6535 - val_accuracy: 0.4971\n",
            "Epoch 32/50\n",
            "98/98 [==============================] - 11s 116ms/step - loss: 0.5445 - accuracy: 0.8330 - val_loss: 1.6606 - val_accuracy: 0.4937\n",
            "Epoch 33/50\n",
            "98/98 [==============================] - 11s 113ms/step - loss: 0.5184 - accuracy: 0.8433 - val_loss: 1.7110 - val_accuracy: 0.4808\n",
            "Epoch 34/50\n",
            "98/98 [==============================] - 10s 103ms/step - loss: 0.4954 - accuracy: 0.8515 - val_loss: 1.7227 - val_accuracy: 0.4808\n",
            "Epoch 35/50\n",
            "98/98 [==============================] - 11s 117ms/step - loss: 0.4774 - accuracy: 0.8579 - val_loss: 1.7797 - val_accuracy: 0.4739\n",
            "Epoch 36/50\n",
            "98/98 [==============================] - 12s 122ms/step - loss: 0.4503 - accuracy: 0.8691 - val_loss: 1.8059 - val_accuracy: 0.4886\n",
            "Epoch 37/50\n",
            "98/98 [==============================] - 11s 117ms/step - loss: 0.4285 - accuracy: 0.8772 - val_loss: 1.8016 - val_accuracy: 0.4855\n",
            "Epoch 38/50\n",
            "98/98 [==============================] - 11s 116ms/step - loss: 0.4063 - accuracy: 0.8857 - val_loss: 1.8440 - val_accuracy: 0.4805\n",
            "Epoch 39/50\n",
            "98/98 [==============================] - 14s 139ms/step - loss: 0.3855 - accuracy: 0.8933 - val_loss: 1.8191 - val_accuracy: 0.4758\n",
            "Epoch 40/50\n",
            "98/98 [==============================] - 10s 102ms/step - loss: 0.3685 - accuracy: 0.8987 - val_loss: 1.8956 - val_accuracy: 0.4747\n",
            "Epoch 41/50\n",
            "98/98 [==============================] - 11s 113ms/step - loss: 0.3497 - accuracy: 0.9055 - val_loss: 1.9155 - val_accuracy: 0.4866\n",
            "Epoch 42/50\n",
            "98/98 [==============================] - 12s 123ms/step - loss: 0.3259 - accuracy: 0.9161 - val_loss: 1.9295 - val_accuracy: 0.4831\n",
            "Epoch 43/50\n",
            "98/98 [==============================] - 11s 113ms/step - loss: 0.3082 - accuracy: 0.9227 - val_loss: 1.9304 - val_accuracy: 0.4922\n",
            "Epoch 44/50\n",
            "98/98 [==============================] - 13s 131ms/step - loss: 0.2940 - accuracy: 0.9270 - val_loss: 1.9507 - val_accuracy: 0.4754\n",
            "Epoch 45/50\n",
            "98/98 [==============================] - 10s 101ms/step - loss: 0.2799 - accuracy: 0.9313 - val_loss: 1.9818 - val_accuracy: 0.4860\n",
            "Epoch 46/50\n",
            "98/98 [==============================] - 11s 111ms/step - loss: 0.2596 - accuracy: 0.9403 - val_loss: 1.9819 - val_accuracy: 0.4766\n",
            "Epoch 47/50\n",
            "98/98 [==============================] - 12s 123ms/step - loss: 0.2474 - accuracy: 0.9431 - val_loss: 2.0127 - val_accuracy: 0.4910\n",
            "Epoch 48/50\n",
            "98/98 [==============================] - 11s 117ms/step - loss: 0.2342 - accuracy: 0.9475 - val_loss: 2.0459 - val_accuracy: 0.4786\n",
            "Epoch 49/50\n",
            "98/98 [==============================] - 11s 113ms/step - loss: 0.2214 - accuracy: 0.9503 - val_loss: 2.1056 - val_accuracy: 0.4761\n",
            "Epoch 50/50\n",
            "98/98 [==============================] - 12s 119ms/step - loss: 0.2073 - accuracy: 0.9567 - val_loss: 2.0651 - val_accuracy: 0.4794\n",
            "313/313 [==============================] - 2s 7ms/step\n",
            "313/313 [==============================] - 3s 8ms/step\n"
          ]
        }
      ],
      "source": [
        "# 載入 Callbacks\n",
        "from keras.callbacks import ModelCheckpoint\n",
        "\n",
        "model_ckpt = ModelCheckpoint(filepath=\"./tmp.h5\", \n",
        "                             monitor=\"val_loss\", \n",
        "                             save_best_only=True)\n",
        "\n",
        "model = build_mlp(input_shape=x_train.shape[1:])\n",
        "model.summary()\n",
        "optimizer = keras.optimizers.SGD(lr=LEARNING_RATE, nesterov=True, momentum=MOMENTUM)\n",
        "model.compile(loss=\"categorical_crossentropy\", metrics=[\"accuracy\"], optimizer=optimizer)\n",
        "\n",
        "model.fit(x_train, y_train, \n",
        "          epochs=EPOCHS, \n",
        "          batch_size=BATCH_SIZE, \n",
        "          validation_data=(x_test, y_test), \n",
        "          shuffle=True,\n",
        "          callbacks=[model_ckpt]\n",
        "         )\n",
        "\n",
        "model.save(\"final_model.h5\")\n",
        "model.save_weights(\"model_weights.h5\")\n",
        "# Collect results\n",
        "train_loss = model.history.history[\"loss\"]\n",
        "valid_loss = model.history.history[\"val_loss\"]\n",
        "train_acc = model.history.history[\"accuracy\"]\n",
        "valid_acc = model.history.history[\"val_accuracy\"]\n",
        "\n",
        "pred_final = model.predict(x_test)\n",
        "# Load back\n",
        "model = keras.models.load_model(\"./tmp.h5\")\n",
        "pred_loadback = model.predict(x_test)"
      ]
    },
    {
      "cell_type": "code",
      "execution_count": 11,
      "metadata": {
        "scrolled": true,
        "colab": {
          "base_uri": "https://localhost:8080/"
        },
        "id": "tpr5FtEy3Reo",
        "outputId": "72bb5799-eacb-4391-e3b3-f6c8f887dfda"
      },
      "outputs": [
        {
          "output_type": "stream",
          "name": "stdout",
          "text": [
            "Accuracy of final weights: 0.479\n",
            "Accuracy of best weights: 0.497\n"
          ]
        }
      ],
      "source": [
        "from sklearn.metrics import accuracy_score\n",
        "\n",
        "final_model_acc = accuracy_score(y_true=y_test.argmax(axis=-1), y_pred=pred_final.argmax(axis=-1))\n",
        "loadback_acc = accuracy_score(y_true=y_test.argmax(axis=-1), y_pred=pred_loadback.argmax(axis=-1))\n",
        "\n",
        "print(\"Accuracy of final weights: %.3f\" % final_model_acc)\n",
        "print(\"Accuracy of best weights: %.3f\" % loadback_acc)"
      ]
    },
    {
      "cell_type": "code",
      "source": [
        "from keras.callbacks import ModelCheckpoint\n",
        "\n",
        "model_ckpt = ModelCheckpoint(filepath=\"./tmp.h5\", \n",
        "                             monitor=\"val_loss\", \n",
        "                             save_best_only=False)\n",
        "\n",
        "model = build_mlp(input_shape=x_train.shape[1:])\n",
        "model.summary()\n",
        "optimizer = keras.optimizers.SGD(lr=LEARNING_RATE, nesterov=True, momentum=MOMENTUM)\n",
        "model.compile(loss=\"categorical_crossentropy\", metrics=[\"accuracy\"], optimizer=optimizer)\n",
        "\n",
        "model.fit(x_train, y_train, \n",
        "          epochs=EPOCHS, \n",
        "          batch_size=BATCH_SIZE, \n",
        "          validation_data=(x_test, y_test), \n",
        "          shuffle=True,\n",
        "          callbacks=[model_ckpt]\n",
        "         )\n",
        "\n",
        "model.save(\"final_model.h5\")\n",
        "model.save_weights(\"model_weights.h5\")\n",
        "# Collect results\n",
        "train_loss = model.history.history[\"loss\"]\n",
        "valid_loss = model.history.history[\"val_loss\"]\n",
        "train_acc = model.history.history[\"accuracy\"]\n",
        "valid_acc = model.history.history[\"val_accuracy\"]\n",
        "\n",
        "pred_final = model.predict(x_test)\n",
        "# Load back\n",
        "model = keras.models.load_model(\"./tmp.h5\")\n",
        "pred_loadback = model.predict(x_test)"
      ],
      "metadata": {
        "colab": {
          "base_uri": "https://localhost:8080/"
        },
        "id": "42bwCCgKGZa0",
        "outputId": "a9a0f84d-4060-445f-cdcc-08b20e27e79c"
      },
      "execution_count": 12,
      "outputs": [
        {
          "output_type": "stream",
          "name": "stdout",
          "text": [
            "Model: \"model_1\"\n",
            "_________________________________________________________________\n",
            " Layer (type)                Output Shape              Param #   \n",
            "=================================================================\n",
            " input_2 (InputLayer)        [(None, 3072)]            0         \n",
            "                                                                 \n",
            " hidden_layer1 (Dense)       (None, 512)               1573376   \n",
            "                                                                 \n",
            " batch_normalization_3 (Batc  (None, 512)              2048      \n",
            " hNormalization)                                                 \n",
            "                                                                 \n",
            " hidden_layer2 (Dense)       (None, 256)               131328    \n",
            "                                                                 \n",
            " batch_normalization_4 (Batc  (None, 256)              1024      \n",
            " hNormalization)                                                 \n",
            "                                                                 \n",
            " hidden_layer3 (Dense)       (None, 128)               32896     \n",
            "                                                                 \n",
            " batch_normalization_5 (Batc  (None, 128)              512       \n",
            " hNormalization)                                                 \n",
            "                                                                 \n",
            " output (Dense)              (None, 10)                1290      \n",
            "                                                                 \n",
            "=================================================================\n",
            "Total params: 1,742,474\n",
            "Trainable params: 1,740,682\n",
            "Non-trainable params: 1,792\n",
            "_________________________________________________________________\n"
          ]
        },
        {
          "output_type": "stream",
          "name": "stderr",
          "text": [
            "/usr/local/lib/python3.9/dist-packages/keras/optimizers/legacy/gradient_descent.py:114: UserWarning: The `lr` argument is deprecated, use `learning_rate` instead.\n",
            "  super().__init__(name, **kwargs)\n"
          ]
        },
        {
          "output_type": "stream",
          "name": "stdout",
          "text": [
            "Epoch 1/50\n",
            "98/98 [==============================] - 17s 158ms/step - loss: 2.0040 - accuracy: 0.3194 - val_loss: 2.0269 - val_accuracy: 0.2468\n",
            "Epoch 2/50\n",
            "98/98 [==============================] - 11s 116ms/step - loss: 1.6232 - accuracy: 0.4323 - val_loss: 1.7383 - val_accuracy: 0.3751\n",
            "Epoch 3/50\n",
            "98/98 [==============================] - 17s 177ms/step - loss: 1.5144 - accuracy: 0.4701 - val_loss: 1.6055 - val_accuracy: 0.4360\n",
            "Epoch 4/50\n",
            "98/98 [==============================] - 12s 121ms/step - loss: 1.4423 - accuracy: 0.4958 - val_loss: 1.5347 - val_accuracy: 0.4583\n",
            "Epoch 5/50\n",
            "98/98 [==============================] - 14s 139ms/step - loss: 1.3829 - accuracy: 0.5167 - val_loss: 1.5181 - val_accuracy: 0.4631\n",
            "Epoch 6/50\n",
            "98/98 [==============================] - 12s 124ms/step - loss: 1.3321 - accuracy: 0.5340 - val_loss: 1.5050 - val_accuracy: 0.4656\n",
            "Epoch 7/50\n",
            "98/98 [==============================] - 18s 180ms/step - loss: 1.2879 - accuracy: 0.5514 - val_loss: 1.4878 - val_accuracy: 0.4736\n",
            "Epoch 8/50\n",
            "98/98 [==============================] - 18s 184ms/step - loss: 1.2490 - accuracy: 0.5652 - val_loss: 1.4675 - val_accuracy: 0.4748\n",
            "Epoch 9/50\n",
            "98/98 [==============================] - 13s 135ms/step - loss: 1.2114 - accuracy: 0.5784 - val_loss: 1.4666 - val_accuracy: 0.4783\n",
            "Epoch 10/50\n",
            "98/98 [==============================] - 12s 118ms/step - loss: 1.1775 - accuracy: 0.5908 - val_loss: 1.4571 - val_accuracy: 0.4885\n",
            "Epoch 11/50\n",
            "98/98 [==============================] - 12s 119ms/step - loss: 1.1420 - accuracy: 0.6025 - val_loss: 1.4398 - val_accuracy: 0.4916\n",
            "Epoch 12/50\n",
            "98/98 [==============================] - 11s 118ms/step - loss: 1.1070 - accuracy: 0.6174 - val_loss: 1.4574 - val_accuracy: 0.4891\n",
            "Epoch 13/50\n",
            "98/98 [==============================] - 11s 111ms/step - loss: 1.0801 - accuracy: 0.6262 - val_loss: 1.4766 - val_accuracy: 0.4855\n",
            "Epoch 14/50\n",
            "98/98 [==============================] - 10s 106ms/step - loss: 1.0460 - accuracy: 0.6409 - val_loss: 1.4627 - val_accuracy: 0.4890\n",
            "Epoch 15/50\n",
            "98/98 [==============================] - 12s 120ms/step - loss: 1.0155 - accuracy: 0.6520 - val_loss: 1.4440 - val_accuracy: 0.4987\n",
            "Epoch 16/50\n",
            "98/98 [==============================] - 12s 124ms/step - loss: 0.9870 - accuracy: 0.6622 - val_loss: 1.4695 - val_accuracy: 0.4910\n",
            "Epoch 17/50\n",
            "98/98 [==============================] - 12s 120ms/step - loss: 0.9573 - accuracy: 0.6744 - val_loss: 1.4967 - val_accuracy: 0.4840\n",
            "Epoch 18/50\n",
            "98/98 [==============================] - 12s 119ms/step - loss: 0.9282 - accuracy: 0.6845 - val_loss: 1.4777 - val_accuracy: 0.4982\n",
            "Epoch 19/50\n",
            "98/98 [==============================] - 12s 125ms/step - loss: 0.9006 - accuracy: 0.6936 - val_loss: 1.4712 - val_accuracy: 0.5021\n",
            "Epoch 20/50\n",
            "98/98 [==============================] - 12s 120ms/step - loss: 0.8703 - accuracy: 0.7069 - val_loss: 1.4953 - val_accuracy: 0.4949\n",
            "Epoch 21/50\n",
            "98/98 [==============================] - 12s 119ms/step - loss: 0.8438 - accuracy: 0.7159 - val_loss: 1.4752 - val_accuracy: 0.4960\n",
            "Epoch 22/50\n",
            "98/98 [==============================] - 11s 112ms/step - loss: 0.8175 - accuracy: 0.7266 - val_loss: 1.5107 - val_accuracy: 0.5017\n",
            "Epoch 23/50\n",
            "98/98 [==============================] - 11s 107ms/step - loss: 0.7886 - accuracy: 0.7386 - val_loss: 1.5155 - val_accuracy: 0.5051\n",
            "Epoch 24/50\n",
            "98/98 [==============================] - 12s 123ms/step - loss: 0.7597 - accuracy: 0.7491 - val_loss: 1.5228 - val_accuracy: 0.4961\n",
            "Epoch 25/50\n",
            "98/98 [==============================] - 13s 130ms/step - loss: 0.7350 - accuracy: 0.7602 - val_loss: 1.5553 - val_accuracy: 0.4871\n",
            "Epoch 26/50\n",
            "98/98 [==============================] - 13s 136ms/step - loss: 0.7072 - accuracy: 0.7693 - val_loss: 1.5449 - val_accuracy: 0.4983\n",
            "Epoch 27/50\n",
            "98/98 [==============================] - 12s 120ms/step - loss: 0.6813 - accuracy: 0.7802 - val_loss: 1.5671 - val_accuracy: 0.4870\n",
            "Epoch 28/50\n",
            "98/98 [==============================] - 11s 111ms/step - loss: 0.6535 - accuracy: 0.7916 - val_loss: 1.5860 - val_accuracy: 0.5009\n",
            "Epoch 29/50\n",
            "98/98 [==============================] - 12s 119ms/step - loss: 0.6300 - accuracy: 0.7991 - val_loss: 1.6002 - val_accuracy: 0.4935\n",
            "Epoch 30/50\n",
            "98/98 [==============================] - 11s 109ms/step - loss: 0.6076 - accuracy: 0.8075 - val_loss: 1.6732 - val_accuracy: 0.4813\n",
            "Epoch 31/50\n",
            "98/98 [==============================] - 10s 106ms/step - loss: 0.5829 - accuracy: 0.8169 - val_loss: 1.6957 - val_accuracy: 0.4842\n",
            "Epoch 32/50\n",
            "98/98 [==============================] - 11s 112ms/step - loss: 0.5572 - accuracy: 0.8268 - val_loss: 1.6394 - val_accuracy: 0.4959\n",
            "Epoch 33/50\n",
            "98/98 [==============================] - 12s 119ms/step - loss: 0.5344 - accuracy: 0.8347 - val_loss: 1.6818 - val_accuracy: 0.4886\n",
            "Epoch 34/50\n",
            "98/98 [==============================] - 11s 113ms/step - loss: 0.5095 - accuracy: 0.8445 - val_loss: 1.7199 - val_accuracy: 0.4895\n",
            "Epoch 35/50\n",
            "98/98 [==============================] - 12s 121ms/step - loss: 0.4841 - accuracy: 0.8549 - val_loss: 1.6878 - val_accuracy: 0.4971\n",
            "Epoch 36/50\n",
            "98/98 [==============================] - 13s 128ms/step - loss: 0.4633 - accuracy: 0.8637 - val_loss: 1.7322 - val_accuracy: 0.4927\n",
            "Epoch 37/50\n",
            "98/98 [==============================] - 10s 104ms/step - loss: 0.4425 - accuracy: 0.8706 - val_loss: 1.7592 - val_accuracy: 0.4915\n",
            "Epoch 38/50\n",
            "98/98 [==============================] - 11s 110ms/step - loss: 0.4194 - accuracy: 0.8797 - val_loss: 1.7636 - val_accuracy: 0.4880\n",
            "Epoch 39/50\n",
            "98/98 [==============================] - 12s 125ms/step - loss: 0.4021 - accuracy: 0.8862 - val_loss: 1.8423 - val_accuracy: 0.4835\n",
            "Epoch 40/50\n",
            "98/98 [==============================] - 11s 117ms/step - loss: 0.3800 - accuracy: 0.8944 - val_loss: 1.8531 - val_accuracy: 0.4815\n",
            "Epoch 41/50\n",
            "98/98 [==============================] - 11s 111ms/step - loss: 0.3565 - accuracy: 0.9036 - val_loss: 1.8280 - val_accuracy: 0.4986\n",
            "Epoch 42/50\n",
            "98/98 [==============================] - 12s 119ms/step - loss: 0.3429 - accuracy: 0.9088 - val_loss: 1.9144 - val_accuracy: 0.4803\n",
            "Epoch 43/50\n",
            "98/98 [==============================] - 10s 99ms/step - loss: 0.3232 - accuracy: 0.9152 - val_loss: 1.8863 - val_accuracy: 0.4936\n",
            "Epoch 44/50\n",
            "98/98 [==============================] - 12s 118ms/step - loss: 0.3050 - accuracy: 0.9209 - val_loss: 1.8927 - val_accuracy: 0.4971\n",
            "Epoch 45/50\n",
            "98/98 [==============================] - 13s 129ms/step - loss: 0.2892 - accuracy: 0.9275 - val_loss: 2.0215 - val_accuracy: 0.4798\n",
            "Epoch 46/50\n",
            "98/98 [==============================] - 11s 117ms/step - loss: 0.2707 - accuracy: 0.9336 - val_loss: 2.0246 - val_accuracy: 0.4822\n",
            "Epoch 47/50\n",
            "98/98 [==============================] - 12s 124ms/step - loss: 0.2609 - accuracy: 0.9376 - val_loss: 1.9908 - val_accuracy: 0.4893\n",
            "Epoch 48/50\n",
            "98/98 [==============================] - 12s 118ms/step - loss: 0.2488 - accuracy: 0.9406 - val_loss: 1.9996 - val_accuracy: 0.4915\n",
            "Epoch 49/50\n",
            "98/98 [==============================] - 11s 113ms/step - loss: 0.2294 - accuracy: 0.9481 - val_loss: 2.0671 - val_accuracy: 0.4830\n",
            "Epoch 50/50\n",
            "98/98 [==============================] - 11s 108ms/step - loss: 0.2166 - accuracy: 0.9524 - val_loss: 2.0488 - val_accuracy: 0.4918\n",
            "313/313 [==============================] - 3s 10ms/step\n",
            "313/313 [==============================] - 3s 8ms/step\n"
          ]
        }
      ]
    },
    {
      "cell_type": "code",
      "source": [
        "from sklearn.metrics import accuracy_score\n",
        "\n",
        "final_model_acc = accuracy_score(y_true=y_test.argmax(axis=-1), y_pred=pred_final.argmax(axis=-1))\n",
        "loadback_acc = accuracy_score(y_true=y_test.argmax(axis=-1), y_pred=pred_loadback.argmax(axis=-1))\n",
        "\n",
        "print(\"Accuracy of final weights: %.3f\" % final_model_acc)\n",
        "print(\"Accuracy of best weights: %.3f\" % loadback_acc)"
      ],
      "metadata": {
        "colab": {
          "base_uri": "https://localhost:8080/"
        },
        "id": "tk3l5EZcGgO7",
        "outputId": "134f82c2-1078-434b-8863-519625debbe7"
      },
      "execution_count": 13,
      "outputs": [
        {
          "output_type": "stream",
          "name": "stdout",
          "text": [
            "Accuracy of final weights: 0.492\n",
            "Accuracy of best weights: 0.492\n"
          ]
        }
      ]
    },
    {
      "cell_type": "markdown",
      "source": [
        "save_best_only 設為True比較好\n"
      ],
      "metadata": {
        "id": "N0e0R7caG2rL"
      }
    }
  ],
  "metadata": {
    "kernelspec": {
      "display_name": "Python 3",
      "language": "python",
      "name": "python3"
    },
    "language_info": {
      "codemirror_mode": {
        "name": "ipython",
        "version": 3
      },
      "file_extension": ".py",
      "mimetype": "text/x-python",
      "name": "python",
      "nbconvert_exporter": "python",
      "pygments_lexer": "ipython3",
      "version": "3.7.5"
    },
    "colab": {
      "provenance": []
    }
  },
  "nbformat": 4,
  "nbformat_minor": 0
}