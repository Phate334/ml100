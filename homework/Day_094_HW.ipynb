{
  "cells": [
    {
      "cell_type": "markdown",
      "metadata": {
        "id": "tVkSfuWJpsHX"
      },
      "source": [
        "# 作業目標:\n",
        "    了解 Convolution 卷積的組成"
      ]
    },
    {
      "cell_type": "markdown",
      "metadata": {
        "id": "7CejYez8psHY"
      },
      "source": [
        "# 作業重點:\n",
        "    修改 a_slice_prev, 檢查 Z 的輸出"
      ]
    },
    {
      "cell_type": "code",
      "execution_count": 1,
      "metadata": {
        "id": "nXYnrASUpsHY"
      },
      "outputs": [],
      "source": [
        "import numpy as np"
      ]
    },
    {
      "cell_type": "code",
      "execution_count": 2,
      "metadata": {
        "id": "J4yBpjcVpsHZ"
      },
      "outputs": [],
      "source": [
        "# GRADED FUNCTION: conv_single_step\n",
        "def conv_single_step(a_slice_prev, W, b):\n",
        "    \"\"\"\n",
        "    定義一層 Kernel (內核), 使用的參數說明如下\n",
        "    Arguments:\n",
        "        a_slice_prev -- 輸入資料的維度\n",
        "        W -- 權重, 被使用在 a_slice_prev\n",
        "        b -- 偏差參數 \n",
        "    Returns:\n",
        "        Z -- 滑動窗口（W，b）卷積在前一個 feature map 上的結果\n",
        "    \"\"\"\n",
        "    s = a_slice_prev * W\n",
        "    Z = np.sum(s)\n",
        "    Z = float(Z+b)\n",
        "    return Z"
      ]
    },
    {
      "cell_type": "code",
      "execution_count": 7,
      "metadata": {
        "colab": {
          "base_uri": "https://localhost:8080/"
        },
        "id": "wIfT6s4qpsHZ",
        "outputId": "16224931-04c3-4d47-934a-32d3a2b3d310"
      },
      "outputs": [
        {
          "output_type": "stream",
          "name": "stdout",
          "text": [
            "Z = -5.897160569766038\n"
          ]
        }
      ],
      "source": [
        "np.random.seed(1)\n",
        "a_slice_prev = np.random.randn(8, 8, 3)\n",
        "W = np.random.randn(8, 8, 3)\n",
        "b = np.random.randn(1, 1, 1)\n",
        "\n",
        "Z = conv_single_step(a_slice_prev, W, b)\n",
        "print(f'Z = {Z}')"
      ]
    },
    {
      "cell_type": "code",
      "execution_count": 6,
      "metadata": {
        "colab": {
          "base_uri": "https://localhost:8080/"
        },
        "id": "k4WohgOdpsHa",
        "outputId": "e8b996b8-4532-4188-8fe0-6c8a45945495"
      },
      "outputs": [
        {
          "output_type": "stream",
          "name": "stdout",
          "text": [
            "Z = 30.04621799563309\n"
          ]
        }
      ],
      "source": [
        "np.random.seed(1)\n",
        "a_slice_prev = np.random.randn(32, 32, 3)\n",
        "W = np.random.randn(32, 32, 3)\n",
        "b = np.random.randn(1, 1, 1)\n",
        "\n",
        "Z = conv_single_step(a_slice_prev, W, b)\n",
        "print(f'Z = {Z}')"
      ]
    }
  ],
  "metadata": {
    "kernelspec": {
      "display_name": "Python 3",
      "language": "python",
      "name": "python3"
    },
    "language_info": {
      "codemirror_mode": {
        "name": "ipython",
        "version": 3
      },
      "file_extension": ".py",
      "mimetype": "text/x-python",
      "name": "python",
      "nbconvert_exporter": "python",
      "pygments_lexer": "ipython3",
      "version": "3.6.8"
    },
    "colab": {
      "provenance": []
    }
  },
  "nbformat": 4,
  "nbformat_minor": 0
}