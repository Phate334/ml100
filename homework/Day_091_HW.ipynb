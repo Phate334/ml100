{
  "cells": [
    {
      "cell_type": "markdown",
      "metadata": {
        "id": "mNuPp45gLyNu"
      },
      "source": [
        "## 作業目標\n",
        "* 嘗試比較用 color histogram 和 HOG 特徵來訓練的 SVM 分類器在 cifar10 training 和 testing data 上準確度的差別"
      ]
    },
    {
      "cell_type": "code",
      "execution_count": 1,
      "metadata": {
        "collapsed": true,
        "colab": {
          "base_uri": "https://localhost:8080/"
        },
        "id": "ueMCIjBvLyNw",
        "outputId": "08ffc8fa-64b7-4ae1-9989-4d1eeeff86ae"
      },
      "outputs": [
        {
          "output_type": "stream",
          "name": "stdout",
          "text": [
            "Downloading data from https://www.cs.toronto.edu/~kriz/cifar-10-python.tar.gz\n",
            "170498071/170498071 [==============================] - 3s 0us/step\n"
          ]
        }
      ],
      "source": [
        "import os\n",
        "import keras\n",
        "from keras.datasets import cifar10\n",
        "os.environ[\"CUDA_VISIBLE_DEVICES\"] = \"\"\n",
        "import numpy as np\n",
        "import cv2 # 載入 cv2 套件\n",
        "import matplotlib.pyplot as plt\n",
        "\n",
        "train, test = keras.datasets.cifar10.load_data()"
      ]
    },
    {
      "cell_type": "code",
      "execution_count": 2,
      "metadata": {
        "collapsed": true,
        "id": "udmkIrmrLyNw"
      },
      "outputs": [],
      "source": [
        "x_train, y_train = train\n",
        "x_test, y_test = test\n",
        "y_train = y_train.astype(int)\n",
        "y_test = y_test.astype(int)"
      ]
    },
    {
      "cell_type": "markdown",
      "metadata": {
        "id": "GT_JRLEKLyNx"
      },
      "source": [
        "#### 產生直方圖特徵的訓練資料"
      ]
    },
    {
      "cell_type": "code",
      "execution_count": 3,
      "metadata": {
        "collapsed": true,
        "id": "EOBkjbcPLyNx"
      },
      "outputs": [],
      "source": [
        "x_train_histogram = []\n",
        "x_test_histogram = []\n",
        "\n",
        "# 對於所有訓練資料\n",
        "for i in range(len(x_train)):\n",
        "    chans = cv2.split(x_train[i]) # 把圖像的 3 個 channel 切分出來\n",
        "    # 對於所有 channel\n",
        "    hist_feature = []\n",
        "    for chan in chans:\n",
        "        # 計算該 channel 的直方圖\n",
        "        hist = cv2.calcHist([chan], [0], None, [16], [0, 256]) # 切成 16 個 bin\n",
        "        hist_feature.extend(hist.flatten())\n",
        "    # 把計算的直方圖特徵收集起來\n",
        "    x_train_histogram.append(hist_feature)\n",
        "\n",
        "# 對於所有測試資料也做一樣的處理\n",
        "for i in range(len(x_test)):\n",
        "    chans = cv2.split(x_test[i]) # 把圖像的 3 個 channel 切分出來\n",
        "    # 對於所有 channel\n",
        "    hist_feature = []\n",
        "    for chan in chans:\n",
        "        # 計算該 channel 的直方圖\n",
        "        hist = cv2.calcHist([chan], [0], None, [16], [0, 256]) # 切成 16 個 bin\n",
        "        hist_feature.extend(hist.flatten())\n",
        "    x_test_histogram.append(hist_feature)\n",
        "\n",
        "x_train_histogram = np.array(x_train_histogram)\n",
        "x_test_histogram = np.array(x_test_histogram)\n"
      ]
    },
    {
      "cell_type": "markdown",
      "metadata": {
        "id": "TjxxWgrALyNx"
      },
      "source": [
        "#### 產生 HOG 特徵的訓練資料\n",
        "* HOG 特徵通過計算和統計圖像局部區域的梯度方向直方圖來構建特徵，具體細節不在我們涵蓋的範圍裡面，有興趣的同學請參考[補充資料](https://www.cnblogs.com/zyly/p/9651261.html)哦"
      ]
    },
    {
      "cell_type": "code",
      "execution_count": 4,
      "metadata": {
        "collapsed": true,
        "id": "RkeJmvZuLyNx"
      },
      "outputs": [],
      "source": [
        "# SZ=20\n",
        "bin_n = 16 # Number of bins\n",
        "\n",
        "def hog(img):\n",
        "    img = cv2.cvtColor(img, cv2.COLOR_RGB2GRAY)\n",
        "    gx = cv2.Sobel(img, cv2.CV_32F, 1, 0)\n",
        "    gy = cv2.Sobel(img, cv2.CV_32F, 0, 1)\n",
        "    mag, ang = cv2.cartToPolar(gx, gy)\n",
        "    bins = np.int32(bin_n*ang/(2*np.pi))    # quantizing binvalues in (0...16)\n",
        "    bin_cells = bins[:10,:10], bins[10:,:10], bins[:10,10:], bins[10:,10:]\n",
        "    mag_cells = mag[:10,:10], mag[10:,:10], mag[:10,10:], mag[10:,10:]\n",
        "    hists = [np.bincount(b.ravel(), m.ravel(), bin_n) for b, m in zip(bin_cells, mag_cells)]\n",
        "    hist = np.hstack(hists)     # hist is a 64 bit vector\n",
        "    return hist.astype(np.float32)\n",
        "\n",
        "x_train_hog = np.array([hog(x) for x in x_train])\n",
        "x_test_hog = np.array([hog(x) for x in x_test])"
      ]
    },
    {
      "cell_type": "markdown",
      "metadata": {
        "id": "553DdkN6LyNy"
      },
      "source": [
        "#### SVM model\n",
        "* SVM 是機器學習中一個經典的分類算法，具體細節有興趣可以參考 [該知乎上的解釋](https://www.zhihu.com/question/21094489)，我們這裡直接調用 opencv 中實現好的函數"
      ]
    },
    {
      "cell_type": "markdown",
      "metadata": {
        "id": "kl8Mc9l8LyNy"
      },
      "source": [
        "#### 用 histogram 特徵訓練 SVM 模型\n",
        "* 訓練過程可能會花點時間，請等他一下"
      ]
    },
    {
      "cell_type": "code",
      "execution_count": 5,
      "metadata": {
        "collapsed": true,
        "id": "_E83Aw-mLyNy"
      },
      "outputs": [],
      "source": [
        "SVM_hist = cv2.ml.SVM_create()\n",
        "SVM_hist.setKernel(cv2.ml.SVM_LINEAR)\n",
        "SVM_hist.setGamma(5.383)\n",
        "SVM_hist.setType(cv2.ml.SVM_C_SVC)\n",
        "SVM_hist.setC(2.67)\n",
        "\n",
        "#training\n",
        "SVM_hist.train(x_train_histogram, cv2.ml.ROW_SAMPLE, y_train)\n",
        "\n",
        "# prediction\n",
        "_, y_hist_train = SVM_hist.predict(x_train_histogram)\n",
        "_, y_hist_test = SVM_hist.predict(x_test_histogram)"
      ]
    },
    {
      "cell_type": "markdown",
      "metadata": {
        "id": "cxt40qOYLyNz"
      },
      "source": [
        "#### 用 HOG 特徵訓練 SVM 模型\n",
        "* 訓練過程可能會花點時間，請等他一下"
      ]
    },
    {
      "cell_type": "code",
      "execution_count": 6,
      "metadata": {
        "collapsed": true,
        "id": "gzuVXfUzLyNz"
      },
      "outputs": [],
      "source": [
        "SVM_hog = cv2.ml.SVM_create()\n",
        "SVM_hog.setKernel(cv2.ml.SVM_LINEAR)\n",
        "SVM_hog.setGamma(5.383)\n",
        "SVM_hog.setType(cv2.ml.SVM_C_SVC)\n",
        "SVM_hog.setC(2.67)\n",
        "\n",
        "#training\n",
        "SVM_hog.train(x_train_hog, cv2.ml.ROW_SAMPLE, y_train)\n",
        "\n",
        "# prediction\n",
        "_, y_hog_train = SVM_hog.predict(x_train_hog)\n",
        "_, y_hog_test = SVM_hog.predict(x_test_hog)"
      ]
    },
    {
      "cell_type": "code",
      "source": [
        "train_acc = sum(y_hist_train == y_train) / len(y_train) * 100\n",
        "test_acc = sum(y_hist_test == y_test) / len(y_test) * 100\n",
        "print('Histogram')\n",
        "print(f'Training acc: {train_acc}%')\n",
        "print(f'Testing acc: {test_acc}%')\n",
        "\n",
        "train_acc = sum(y_hog_train  == y_train) / len(y_train) * 100\n",
        "test_acc = sum(y_hog_test  == y_test) / len(y_test) * 100\n",
        "print('HOG')\n",
        "print(f'Training acc: {train_acc}%')\n",
        "print(f'Testing acc: {test_acc}%')"
      ],
      "metadata": {
        "colab": {
          "base_uri": "https://localhost:8080/"
        },
        "id": "Pzf8jfezS-3l",
        "outputId": "2a287952-3d0f-4c57-dd89-773cb8c605aa"
      },
      "execution_count": 16,
      "outputs": [
        {
          "output_type": "stream",
          "name": "stdout",
          "text": [
            "Histogram\n",
            "Training acc: [12.078]%\n",
            "Testing acc: [12.28]%\n",
            "HOG\n",
            "Training acc: [21.686]%\n",
            "Testing acc: [21.88]%\n"
          ]
        }
      ]
    }
  ],
  "metadata": {
    "kernelspec": {
      "display_name": "Python 3",
      "language": "python",
      "name": "python3"
    },
    "language_info": {
      "codemirror_mode": {
        "name": "ipython",
        "version": 3
      },
      "file_extension": ".py",
      "mimetype": "text/x-python",
      "name": "python",
      "nbconvert_exporter": "python",
      "pygments_lexer": "ipython3",
      "version": "3.7.5"
    },
    "colab": {
      "provenance": []
    }
  },
  "nbformat": 4,
  "nbformat_minor": 0
}